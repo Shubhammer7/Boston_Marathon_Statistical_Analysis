{
 "cells": [
  {
   "cell_type": "code",
   "execution_count": 1,
   "id": "dcb6fa2f",
   "metadata": {},
   "outputs": [],
   "source": [
    "#Importing libraries\n",
    "import pandas as pd \n",
    "import numpy as np \n",
    "\n",
    "from statsmodels.formula.api import ols\n",
    "\n",
    "import seaborn as sns\n",
    "import matplotlib.pyplot as plt \n",
    "%matplotlib inline "
   ]
  },
  {
   "cell_type": "code",
   "execution_count": 2,
   "id": "558772dd",
   "metadata": {
    "scrolled": true
   },
   "outputs": [
    {
     "data": {
      "text/html": [
       "<div>\n",
       "<style scoped>\n",
       "    .dataframe tbody tr th:only-of-type {\n",
       "        vertical-align: middle;\n",
       "    }\n",
       "\n",
       "    .dataframe tbody tr th {\n",
       "        vertical-align: top;\n",
       "    }\n",
       "\n",
       "    .dataframe thead th {\n",
       "        text-align: right;\n",
       "    }\n",
       "</style>\n",
       "<table border=\"1\" class=\"dataframe\">\n",
       "  <thead>\n",
       "    <tr style=\"text-align: right;\">\n",
       "      <th></th>\n",
       "      <th>Unnamed: 0</th>\n",
       "      <th>Bib</th>\n",
       "      <th>Name</th>\n",
       "      <th>Age</th>\n",
       "      <th>M/F</th>\n",
       "      <th>City</th>\n",
       "      <th>State</th>\n",
       "      <th>Country</th>\n",
       "      <th>Citizen</th>\n",
       "      <th>Unnamed: 9</th>\n",
       "      <th>...</th>\n",
       "      <th>25K</th>\n",
       "      <th>30K</th>\n",
       "      <th>35K</th>\n",
       "      <th>40K</th>\n",
       "      <th>Pace</th>\n",
       "      <th>Proj Time</th>\n",
       "      <th>Official Time</th>\n",
       "      <th>Overall</th>\n",
       "      <th>Gender</th>\n",
       "      <th>Division</th>\n",
       "    </tr>\n",
       "  </thead>\n",
       "  <tbody>\n",
       "    <tr>\n",
       "      <th>0</th>\n",
       "      <td>0</td>\n",
       "      <td>3</td>\n",
       "      <td>Desisa, Lelisa</td>\n",
       "      <td>25</td>\n",
       "      <td>M</td>\n",
       "      <td>Ambo</td>\n",
       "      <td>NaN</td>\n",
       "      <td>ETH</td>\n",
       "      <td>NaN</td>\n",
       "      <td>NaN</td>\n",
       "      <td>...</td>\n",
       "      <td>1:16:07</td>\n",
       "      <td>1:32:00</td>\n",
       "      <td>1:47:59</td>\n",
       "      <td>2:02:39</td>\n",
       "      <td>0:04:56</td>\n",
       "      <td>-</td>\n",
       "      <td>2:09:17</td>\n",
       "      <td>1</td>\n",
       "      <td>1</td>\n",
       "      <td>1</td>\n",
       "    </tr>\n",
       "    <tr>\n",
       "      <th>1</th>\n",
       "      <td>1</td>\n",
       "      <td>4</td>\n",
       "      <td>Tsegay, Yemane Adhane</td>\n",
       "      <td>30</td>\n",
       "      <td>M</td>\n",
       "      <td>Addis Ababa</td>\n",
       "      <td>NaN</td>\n",
       "      <td>ETH</td>\n",
       "      <td>NaN</td>\n",
       "      <td>NaN</td>\n",
       "      <td>...</td>\n",
       "      <td>1:16:07</td>\n",
       "      <td>1:31:59</td>\n",
       "      <td>1:47:59</td>\n",
       "      <td>2:02:42</td>\n",
       "      <td>0:04:58</td>\n",
       "      <td>-</td>\n",
       "      <td>2:09:48</td>\n",
       "      <td>2</td>\n",
       "      <td>2</td>\n",
       "      <td>2</td>\n",
       "    </tr>\n",
       "    <tr>\n",
       "      <th>2</th>\n",
       "      <td>2</td>\n",
       "      <td>8</td>\n",
       "      <td>Chebet, Wilson</td>\n",
       "      <td>29</td>\n",
       "      <td>M</td>\n",
       "      <td>Marakwet</td>\n",
       "      <td>NaN</td>\n",
       "      <td>KEN</td>\n",
       "      <td>NaN</td>\n",
       "      <td>NaN</td>\n",
       "      <td>...</td>\n",
       "      <td>1:16:07</td>\n",
       "      <td>1:32:00</td>\n",
       "      <td>1:47:59</td>\n",
       "      <td>2:03:01</td>\n",
       "      <td>0:04:59</td>\n",
       "      <td>-</td>\n",
       "      <td>2:10:22</td>\n",
       "      <td>3</td>\n",
       "      <td>3</td>\n",
       "      <td>3</td>\n",
       "    </tr>\n",
       "    <tr>\n",
       "      <th>3</th>\n",
       "      <td>3</td>\n",
       "      <td>11</td>\n",
       "      <td>Kipyego, Bernard</td>\n",
       "      <td>28</td>\n",
       "      <td>M</td>\n",
       "      <td>Eldoret</td>\n",
       "      <td>NaN</td>\n",
       "      <td>KEN</td>\n",
       "      <td>NaN</td>\n",
       "      <td>NaN</td>\n",
       "      <td>...</td>\n",
       "      <td>1:16:07</td>\n",
       "      <td>1:32:00</td>\n",
       "      <td>1:48:03</td>\n",
       "      <td>2:03:47</td>\n",
       "      <td>0:05:00</td>\n",
       "      <td>-</td>\n",
       "      <td>2:10:47</td>\n",
       "      <td>4</td>\n",
       "      <td>4</td>\n",
       "      <td>4</td>\n",
       "    </tr>\n",
       "    <tr>\n",
       "      <th>4</th>\n",
       "      <td>4</td>\n",
       "      <td>10</td>\n",
       "      <td>Korir, Wesley</td>\n",
       "      <td>32</td>\n",
       "      <td>M</td>\n",
       "      <td>Kitale</td>\n",
       "      <td>NaN</td>\n",
       "      <td>KEN</td>\n",
       "      <td>NaN</td>\n",
       "      <td>NaN</td>\n",
       "      <td>...</td>\n",
       "      <td>1:16:07</td>\n",
       "      <td>1:32:00</td>\n",
       "      <td>1:47:59</td>\n",
       "      <td>2:03:27</td>\n",
       "      <td>0:05:00</td>\n",
       "      <td>-</td>\n",
       "      <td>2:10:49</td>\n",
       "      <td>5</td>\n",
       "      <td>5</td>\n",
       "      <td>5</td>\n",
       "    </tr>\n",
       "  </tbody>\n",
       "</table>\n",
       "<p>5 rows × 25 columns</p>\n",
       "</div>"
      ],
      "text/plain": [
       "   Unnamed: 0 Bib                   Name  Age M/F         City State Country  \\\n",
       "0           0   3         Desisa, Lelisa   25   M         Ambo   NaN     ETH   \n",
       "1           1   4  Tsegay, Yemane Adhane   30   M  Addis Ababa   NaN     ETH   \n",
       "2           2   8         Chebet, Wilson   29   M     Marakwet   NaN     KEN   \n",
       "3           3  11       Kipyego, Bernard   28   M      Eldoret   NaN     KEN   \n",
       "4           4  10          Korir, Wesley   32   M       Kitale   NaN     KEN   \n",
       "\n",
       "  Citizen Unnamed: 9  ...      25K      30K      35K      40K     Pace  \\\n",
       "0     NaN        NaN  ...  1:16:07  1:32:00  1:47:59  2:02:39  0:04:56   \n",
       "1     NaN        NaN  ...  1:16:07  1:31:59  1:47:59  2:02:42  0:04:58   \n",
       "2     NaN        NaN  ...  1:16:07  1:32:00  1:47:59  2:03:01  0:04:59   \n",
       "3     NaN        NaN  ...  1:16:07  1:32:00  1:48:03  2:03:47  0:05:00   \n",
       "4     NaN        NaN  ...  1:16:07  1:32:00  1:47:59  2:03:27  0:05:00   \n",
       "\n",
       "  Proj Time Official Time Overall Gender Division  \n",
       "0         -       2:09:17       1      1        1  \n",
       "1         -       2:09:48       2      2        2  \n",
       "2         -       2:10:22       3      3        3  \n",
       "3         -       2:10:47       4      4        4  \n",
       "4         -       2:10:49       5      5        5  \n",
       "\n",
       "[5 rows x 25 columns]"
      ]
     },
     "execution_count": 2,
     "metadata": {},
     "output_type": "execute_result"
    }
   ],
   "source": [
    "#Importing the datasets\n",
    "df_mar = pd.read_csv('marathon_results_2015.csv')\n",
    "df_mar19 = pd.read_csv('Boston2019.csv')\n",
    "df_mar.head()"
   ]
  },
  {
   "cell_type": "code",
   "execution_count": 3,
   "id": "bb536077",
   "metadata": {
    "scrolled": true
   },
   "outputs": [
    {
     "data": {
      "text/html": [
       "<div>\n",
       "<style scoped>\n",
       "    .dataframe tbody tr th:only-of-type {\n",
       "        vertical-align: middle;\n",
       "    }\n",
       "\n",
       "    .dataframe tbody tr th {\n",
       "        vertical-align: top;\n",
       "    }\n",
       "\n",
       "    .dataframe thead th {\n",
       "        text-align: right;\n",
       "    }\n",
       "</style>\n",
       "<table border=\"1\" class=\"dataframe\">\n",
       "  <thead>\n",
       "    <tr style=\"text-align: right;\">\n",
       "      <th></th>\n",
       "      <th>Rank_Tot</th>\n",
       "      <th>Age</th>\n",
       "      <th>Gender</th>\n",
       "      <th>Country</th>\n",
       "      <th>Result_hr</th>\n",
       "      <th>Result_sec</th>\n",
       "      <th>Rank_Gender</th>\n",
       "      <th>Country_code</th>\n",
       "    </tr>\n",
       "  </thead>\n",
       "  <tbody>\n",
       "    <tr>\n",
       "      <th>0</th>\n",
       "      <td>1</td>\n",
       "      <td>30</td>\n",
       "      <td>M</td>\n",
       "      <td>Kenya</td>\n",
       "      <td>2:07:57</td>\n",
       "      <td>7677</td>\n",
       "      <td>1</td>\n",
       "      <td>KEN</td>\n",
       "    </tr>\n",
       "    <tr>\n",
       "      <th>1</th>\n",
       "      <td>2</td>\n",
       "      <td>29</td>\n",
       "      <td>M</td>\n",
       "      <td>Ethiopia</td>\n",
       "      <td>2:07:59</td>\n",
       "      <td>7679</td>\n",
       "      <td>2</td>\n",
       "      <td>ETH</td>\n",
       "    </tr>\n",
       "    <tr>\n",
       "      <th>2</th>\n",
       "      <td>3</td>\n",
       "      <td>34</td>\n",
       "      <td>M</td>\n",
       "      <td>Kenya</td>\n",
       "      <td>2:08:07</td>\n",
       "      <td>7687</td>\n",
       "      <td>3</td>\n",
       "      <td>KEN</td>\n",
       "    </tr>\n",
       "    <tr>\n",
       "      <th>3</th>\n",
       "      <td>4</td>\n",
       "      <td>32</td>\n",
       "      <td>M</td>\n",
       "      <td>Kenya</td>\n",
       "      <td>2:08:54</td>\n",
       "      <td>7734</td>\n",
       "      <td>4</td>\n",
       "      <td>KEN</td>\n",
       "    </tr>\n",
       "    <tr>\n",
       "      <th>4</th>\n",
       "      <td>5</td>\n",
       "      <td>26</td>\n",
       "      <td>M</td>\n",
       "      <td>Kenya</td>\n",
       "      <td>2:08:55</td>\n",
       "      <td>7735</td>\n",
       "      <td>5</td>\n",
       "      <td>KEN</td>\n",
       "    </tr>\n",
       "  </tbody>\n",
       "</table>\n",
       "</div>"
      ],
      "text/plain": [
       "   Rank_Tot  Age Gender   Country Result_hr  Result_sec  Rank_Gender  \\\n",
       "0         1   30      M     Kenya   2:07:57        7677            1   \n",
       "1         2   29      M  Ethiopia   2:07:59        7679            2   \n",
       "2         3   34      M     Kenya   2:08:07        7687            3   \n",
       "3         4   32      M     Kenya   2:08:54        7734            4   \n",
       "4         5   26      M     Kenya   2:08:55        7735            5   \n",
       "\n",
       "  Country_code  \n",
       "0          KEN  \n",
       "1          ETH  \n",
       "2          KEN  \n",
       "3          KEN  \n",
       "4          KEN  "
      ]
     },
     "execution_count": 3,
     "metadata": {},
     "output_type": "execute_result"
    }
   ],
   "source": [
    "df_mar19.head()"
   ]
  },
  {
   "cell_type": "markdown",
   "id": "16305ea4",
   "metadata": {},
   "source": [
    "## EDA \n",
    "\n",
    "Marathon dataset 2015"
   ]
  },
  {
   "cell_type": "code",
   "execution_count": 4,
   "id": "ece9b5f7",
   "metadata": {},
   "outputs": [
    {
     "data": {
      "text/plain": [
       "Index(['Unnamed: 0', 'Bib', 'Name', 'Age', 'M/F', 'City', 'State', 'Country',\n",
       "       'Citizen', 'Unnamed: 9', '5K', '10K', '15K', '20K', 'Half', '25K',\n",
       "       '30K', '35K', '40K', 'Pace', 'Proj Time', 'Official Time', 'Overall',\n",
       "       'Gender', 'Division'],\n",
       "      dtype='object')"
      ]
     },
     "execution_count": 4,
     "metadata": {},
     "output_type": "execute_result"
    }
   ],
   "source": [
    "#Listing the columns in the dataset \n",
    "df_mar.columns"
   ]
  },
  {
   "cell_type": "code",
   "execution_count": 5,
   "id": "b1673a73",
   "metadata": {},
   "outputs": [
    {
     "data": {
      "text/plain": [
       "Unnamed: 0        int64\n",
       "Bib              object\n",
       "Name             object\n",
       "Age               int64\n",
       "M/F              object\n",
       "City             object\n",
       "State            object\n",
       "Country          object\n",
       "Citizen          object\n",
       "Unnamed: 9       object\n",
       "5K               object\n",
       "10K              object\n",
       "15K              object\n",
       "20K              object\n",
       "Half             object\n",
       "25K              object\n",
       "30K              object\n",
       "35K              object\n",
       "40K              object\n",
       "Pace             object\n",
       "Proj Time        object\n",
       "Official Time    object\n",
       "Overall           int64\n",
       "Gender            int64\n",
       "Division          int64\n",
       "dtype: object"
      ]
     },
     "execution_count": 5,
     "metadata": {},
     "output_type": "execute_result"
    }
   ],
   "source": [
    "#Datatypes of columns in the dataset\n",
    "df_mar.dtypes"
   ]
  },
  {
   "cell_type": "code",
   "execution_count": 6,
   "id": "ee1555d2",
   "metadata": {},
   "outputs": [
    {
     "data": {
      "text/html": [
       "<div>\n",
       "<style scoped>\n",
       "    .dataframe tbody tr th:only-of-type {\n",
       "        vertical-align: middle;\n",
       "    }\n",
       "\n",
       "    .dataframe tbody tr th {\n",
       "        vertical-align: top;\n",
       "    }\n",
       "\n",
       "    .dataframe thead th {\n",
       "        text-align: right;\n",
       "    }\n",
       "</style>\n",
       "<table border=\"1\" class=\"dataframe\">\n",
       "  <thead>\n",
       "    <tr style=\"text-align: right;\">\n",
       "      <th></th>\n",
       "      <th>Unnamed: 0</th>\n",
       "      <th>Age</th>\n",
       "      <th>Overall</th>\n",
       "      <th>Gender</th>\n",
       "      <th>Division</th>\n",
       "    </tr>\n",
       "  </thead>\n",
       "  <tbody>\n",
       "    <tr>\n",
       "      <th>count</th>\n",
       "      <td>26598.00</td>\n",
       "      <td>26598.00</td>\n",
       "      <td>26598.00</td>\n",
       "      <td>26598.00</td>\n",
       "      <td>26598.00</td>\n",
       "    </tr>\n",
       "    <tr>\n",
       "      <th>mean</th>\n",
       "      <td>13298.50</td>\n",
       "      <td>42.14</td>\n",
       "      <td>13299.50</td>\n",
       "      <td>6711.79</td>\n",
       "      <td>1654.04</td>\n",
       "    </tr>\n",
       "    <tr>\n",
       "      <th>std</th>\n",
       "      <td>7678.33</td>\n",
       "      <td>11.29</td>\n",
       "      <td>7678.33</td>\n",
       "      <td>3944.25</td>\n",
       "      <td>1477.11</td>\n",
       "    </tr>\n",
       "    <tr>\n",
       "      <th>min</th>\n",
       "      <td>0.00</td>\n",
       "      <td>18.00</td>\n",
       "      <td>1.00</td>\n",
       "      <td>1.00</td>\n",
       "      <td>1.00</td>\n",
       "    </tr>\n",
       "    <tr>\n",
       "      <th>25%</th>\n",
       "      <td>6649.25</td>\n",
       "      <td>33.00</td>\n",
       "      <td>6650.25</td>\n",
       "      <td>3325.25</td>\n",
       "      <td>518.00</td>\n",
       "    </tr>\n",
       "    <tr>\n",
       "      <th>50%</th>\n",
       "      <td>13298.50</td>\n",
       "      <td>42.00</td>\n",
       "      <td>13299.50</td>\n",
       "      <td>6650.00</td>\n",
       "      <td>1205.00</td>\n",
       "    </tr>\n",
       "    <tr>\n",
       "      <th>75%</th>\n",
       "      <td>19947.75</td>\n",
       "      <td>50.00</td>\n",
       "      <td>19948.75</td>\n",
       "      <td>9974.75</td>\n",
       "      <td>2268.00</td>\n",
       "    </tr>\n",
       "    <tr>\n",
       "      <th>max</th>\n",
       "      <td>26597.00</td>\n",
       "      <td>82.00</td>\n",
       "      <td>26598.00</td>\n",
       "      <td>14581.00</td>\n",
       "      <td>6004.00</td>\n",
       "    </tr>\n",
       "  </tbody>\n",
       "</table>\n",
       "</div>"
      ],
      "text/plain": [
       "       Unnamed: 0       Age   Overall    Gender  Division\n",
       "count    26598.00  26598.00  26598.00  26598.00  26598.00\n",
       "mean     13298.50     42.14  13299.50   6711.79   1654.04\n",
       "std       7678.33     11.29   7678.33   3944.25   1477.11\n",
       "min          0.00     18.00      1.00      1.00      1.00\n",
       "25%       6649.25     33.00   6650.25   3325.25    518.00\n",
       "50%      13298.50     42.00  13299.50   6650.00   1205.00\n",
       "75%      19947.75     50.00  19948.75   9974.75   2268.00\n",
       "max      26597.00     82.00  26598.00  14581.00   6004.00"
      ]
     },
     "execution_count": 6,
     "metadata": {},
     "output_type": "execute_result"
    }
   ],
   "source": [
    "#Statistically describing all the numerical columns in the dataset \n",
    "df_mar.describe().round(2)"
   ]
  },
  {
   "cell_type": "code",
   "execution_count": 7,
   "id": "9e36aaee",
   "metadata": {},
   "outputs": [
    {
     "data": {
      "text/plain": [
       "0    25\n",
       "1    30\n",
       "2    29\n",
       "3    28\n",
       "4    32\n",
       "5    30\n",
       "6    32\n",
       "7    39\n",
       "8    27\n",
       "9    33\n",
       "Name: Age, dtype: int64"
      ]
     },
     "execution_count": 7,
     "metadata": {},
     "output_type": "execute_result"
    }
   ],
   "source": [
    "#Listing the first 10 rows in the \"Age\" column\n",
    "df_mar['Age'][:10]"
   ]
  },
  {
   "cell_type": "code",
   "execution_count": 8,
   "id": "48401024",
   "metadata": {},
   "outputs": [
    {
     "data": {
      "text/plain": [
       "29"
      ]
     },
     "execution_count": 8,
     "metadata": {},
     "output_type": "execute_result"
    }
   ],
   "source": [
    "#Third row in the 'Age' column\n",
    "df_mar.loc[2,'Age']\n",
    "#df_mar.iloc[1]"
   ]
  },
  {
   "cell_type": "code",
   "execution_count": 160,
   "id": "b32ad9ca",
   "metadata": {},
   "outputs": [
    {
     "data": {
      "image/png": "[encoded data removed]",
      "text/plain": [
       "<Figure size 432x288 with 1 Axes>"
      ]
     },
     "metadata": {
      "needs_background": "light"
     },
     "output_type": "display_data"
    }
   ],
   "source": [
    "#Two ways to make a histogram using pandas library for a specific column\n",
    "df_mar.hist('Age',bins=15)\n",
    "df_mar['Age'].hist(bins=15)\n",
    "plt.show()"
   ]
  },
  {
   "cell_type": "code",
   "execution_count": 10,
   "id": "01753430",
   "metadata": {},
   "outputs": [
    {
     "data": {
      "text/html": [
       "<div>\n",
       "<style scoped>\n",
       "    .dataframe tbody tr th:only-of-type {\n",
       "        vertical-align: middle;\n",
       "    }\n",
       "\n",
       "    .dataframe tbody tr th {\n",
       "        vertical-align: top;\n",
       "    }\n",
       "\n",
       "    .dataframe thead th {\n",
       "        text-align: right;\n",
       "    }\n",
       "</style>\n",
       "<table border=\"1\" class=\"dataframe\">\n",
       "  <thead>\n",
       "    <tr style=\"text-align: right;\">\n",
       "      <th></th>\n",
       "      <th>Name</th>\n",
       "      <th>Age</th>\n",
       "      <th>M/F</th>\n",
       "    </tr>\n",
       "  </thead>\n",
       "  <tbody>\n",
       "    <tr>\n",
       "      <th>0</th>\n",
       "      <td>Desisa, Lelisa</td>\n",
       "      <td>25</td>\n",
       "      <td>M</td>\n",
       "    </tr>\n",
       "    <tr>\n",
       "      <th>1</th>\n",
       "      <td>Tsegay, Yemane Adhane</td>\n",
       "      <td>30</td>\n",
       "      <td>M</td>\n",
       "    </tr>\n",
       "    <tr>\n",
       "      <th>2</th>\n",
       "      <td>Chebet, Wilson</td>\n",
       "      <td>29</td>\n",
       "      <td>M</td>\n",
       "    </tr>\n",
       "    <tr>\n",
       "      <th>3</th>\n",
       "      <td>Kipyego, Bernard</td>\n",
       "      <td>28</td>\n",
       "      <td>M</td>\n",
       "    </tr>\n",
       "    <tr>\n",
       "      <th>4</th>\n",
       "      <td>Korir, Wesley</td>\n",
       "      <td>32</td>\n",
       "      <td>M</td>\n",
       "    </tr>\n",
       "  </tbody>\n",
       "</table>\n",
       "</div>"
      ],
      "text/plain": [
       "                    Name  Age M/F\n",
       "0         Desisa, Lelisa   25   M\n",
       "1  Tsegay, Yemane Adhane   30   M\n",
       "2         Chebet, Wilson   29   M\n",
       "3       Kipyego, Bernard   28   M\n",
       "4          Korir, Wesley   32   M"
      ]
     },
     "execution_count": 10,
     "metadata": {},
     "output_type": "execute_result"
    }
   ],
   "source": [
    "#Using a list to show the first 10 rows of specific columns\n",
    "df_mar[['Name','Age','M/F']].head()"
   ]
  },
  {
   "cell_type": "code",
   "execution_count": 11,
   "id": "82808f1e",
   "metadata": {},
   "outputs": [
    {
     "data": {
      "text/plain": [
       "Name    Korir, Wesley\n",
       "Age                32\n",
       "M/F                 M\n",
       "Name: 4, dtype: object"
      ]
     },
     "execution_count": 11,
     "metadata": {},
     "output_type": "execute_result"
    }
   ],
   "source": [
    "#Using the .loc function to show the fifth row of these columns \n",
    "df_mar.loc[4,['Name','Age','M/F']]"
   ]
  },
  {
   "cell_type": "code",
   "execution_count": 12,
   "id": "b130614c",
   "metadata": {},
   "outputs": [
    {
     "data": {
      "text/plain": [
       "82"
      ]
     },
     "execution_count": 12,
     "metadata": {},
     "output_type": "execute_result"
    }
   ],
   "source": [
    "#Showing the maximum value in the 'Age' column\n",
    "df_mar['Age'].max()"
   ]
  },
  {
   "cell_type": "code",
   "execution_count": 13,
   "id": "25bece14",
   "metadata": {},
   "outputs": [
    {
     "data": {
      "text/plain": [
       "min    18\n",
       "max    82\n",
       "Name: Age, dtype: int64"
      ]
     },
     "execution_count": 13,
     "metadata": {},
     "output_type": "execute_result"
    }
   ],
   "source": [
    "#Using .agg function to show the min and max values in the 'Age' columns\n",
    "df_mar['Age'].agg(['min','max'])"
   ]
  },
  {
   "cell_type": "code",
   "execution_count": 14,
   "id": "aae20a97",
   "metadata": {},
   "outputs": [
    {
     "data": {
      "text/plain": [
       "0        M\n",
       "1        M\n",
       "2        M\n",
       "3        M\n",
       "4        M\n",
       "        ..\n",
       "26593    F\n",
       "26594    F\n",
       "26595    F\n",
       "26596    M\n",
       "26597    M\n",
       "Name: M/F, Length: 26598, dtype: object"
      ]
     },
     "execution_count": 14,
     "metadata": {},
     "output_type": "execute_result"
    }
   ],
   "source": [
    "df_mar['M/F']"
   ]
  },
  {
   "cell_type": "code",
   "execution_count": 15,
   "id": "0e0cb020",
   "metadata": {},
   "outputs": [
    {
     "data": {
      "text/html": [
       "<div>\n",
       "<style scoped>\n",
       "    .dataframe tbody tr th:only-of-type {\n",
       "        vertical-align: middle;\n",
       "    }\n",
       "\n",
       "    .dataframe tbody tr th {\n",
       "        vertical-align: top;\n",
       "    }\n",
       "\n",
       "    .dataframe thead th {\n",
       "        text-align: right;\n",
       "    }\n",
       "</style>\n",
       "<table border=\"1\" class=\"dataframe\">\n",
       "  <thead>\n",
       "    <tr style=\"text-align: right;\">\n",
       "      <th></th>\n",
       "      <th>Unnamed: 0</th>\n",
       "      <th>Unnamed: 9</th>\n",
       "    </tr>\n",
       "  </thead>\n",
       "  <tbody>\n",
       "    <tr>\n",
       "      <th>0</th>\n",
       "      <td>0</td>\n",
       "      <td>NaN</td>\n",
       "    </tr>\n",
       "    <tr>\n",
       "      <th>1</th>\n",
       "      <td>1</td>\n",
       "      <td>NaN</td>\n",
       "    </tr>\n",
       "    <tr>\n",
       "      <th>2</th>\n",
       "      <td>2</td>\n",
       "      <td>NaN</td>\n",
       "    </tr>\n",
       "    <tr>\n",
       "      <th>3</th>\n",
       "      <td>3</td>\n",
       "      <td>NaN</td>\n",
       "    </tr>\n",
       "    <tr>\n",
       "      <th>4</th>\n",
       "      <td>4</td>\n",
       "      <td>NaN</td>\n",
       "    </tr>\n",
       "  </tbody>\n",
       "</table>\n",
       "</div>"
      ],
      "text/plain": [
       "   Unnamed: 0 Unnamed: 9\n",
       "0           0        NaN\n",
       "1           1        NaN\n",
       "2           2        NaN\n",
       "3           3        NaN\n",
       "4           4        NaN"
      ]
     },
     "execution_count": 15,
     "metadata": {},
     "output_type": "execute_result"
    }
   ],
   "source": [
    "#Cleaning up the dataset \n",
    "df_mar[['Unnamed: 0','Unnamed: 9']].head()"
   ]
  },
  {
   "cell_type": "code",
   "execution_count": 16,
   "id": "78747966",
   "metadata": {},
   "outputs": [
    {
     "data": {
      "text/plain": [
       "True"
      ]
     },
     "execution_count": 16,
     "metadata": {},
     "output_type": "execute_result"
    }
   ],
   "source": [
    "#Checking if the length of the df is equal to the length of the column and the index of the df \n",
    "len(df_mar)==((df_mar['Unnamed: 0']==df_mar.index)).sum()"
   ]
  },
  {
   "cell_type": "code",
   "execution_count": 17,
   "id": "52b5bbac",
   "metadata": {},
   "outputs": [],
   "source": [
    "#It is safe to delete the dataframe, so we will do so using the del function \n",
    "del df_mar['Unnamed: 0']"
   ]
  },
  {
   "cell_type": "code",
   "execution_count": 18,
   "id": "0fbccc11",
   "metadata": {},
   "outputs": [
    {
     "name": "stdout",
     "output_type": "stream",
     "text": [
      "26531 26598\n"
     ]
    }
   ],
   "source": [
    "#Checking for the other column as well \n",
    "print(sum(df_mar['Unnamed: 9'].isnull()),len(df_mar))"
   ]
  },
  {
   "cell_type": "code",
   "execution_count": 19,
   "id": "bff6bb72",
   "metadata": {},
   "outputs": [
    {
     "data": {
      "text/html": [
       "<div>\n",
       "<style scoped>\n",
       "    .dataframe tbody tr th:only-of-type {\n",
       "        vertical-align: middle;\n",
       "    }\n",
       "\n",
       "    .dataframe tbody tr th {\n",
       "        vertical-align: top;\n",
       "    }\n",
       "\n",
       "    .dataframe thead th {\n",
       "        text-align: right;\n",
       "    }\n",
       "</style>\n",
       "<table border=\"1\" class=\"dataframe\">\n",
       "  <thead>\n",
       "    <tr style=\"text-align: right;\">\n",
       "      <th></th>\n",
       "      <th>Bib</th>\n",
       "      <th>Name</th>\n",
       "      <th>Age</th>\n",
       "      <th>M/F</th>\n",
       "      <th>City</th>\n",
       "      <th>State</th>\n",
       "      <th>Country</th>\n",
       "      <th>Citizen</th>\n",
       "      <th>Unnamed: 9</th>\n",
       "      <th>5K</th>\n",
       "      <th>...</th>\n",
       "      <th>25K</th>\n",
       "      <th>30K</th>\n",
       "      <th>35K</th>\n",
       "      <th>40K</th>\n",
       "      <th>Pace</th>\n",
       "      <th>Proj Time</th>\n",
       "      <th>Official Time</th>\n",
       "      <th>Overall</th>\n",
       "      <th>Gender</th>\n",
       "      <th>Division</th>\n",
       "    </tr>\n",
       "  </thead>\n",
       "  <tbody>\n",
       "    <tr>\n",
       "      <th>1669</th>\n",
       "      <td>3207</td>\n",
       "      <td>Balcom, Donald C.</td>\n",
       "      <td>41</td>\n",
       "      <td>M</td>\n",
       "      <td>Hollywood</td>\n",
       "      <td>MD</td>\n",
       "      <td>USA</td>\n",
       "      <td>NaN</td>\n",
       "      <td>VI</td>\n",
       "      <td>0:21:23</td>\n",
       "      <td>...</td>\n",
       "      <td>1:44:29</td>\n",
       "      <td>2:05:28</td>\n",
       "      <td>2:26:50</td>\n",
       "      <td>2:47:02</td>\n",
       "      <td>0:06:43</td>\n",
       "      <td>-</td>\n",
       "      <td>2:55:45</td>\n",
       "      <td>1670</td>\n",
       "      <td>1582</td>\n",
       "      <td>204</td>\n",
       "    </tr>\n",
       "    <tr>\n",
       "      <th>2251</th>\n",
       "      <td>3310</td>\n",
       "      <td>Bryant, Andrew V.</td>\n",
       "      <td>33</td>\n",
       "      <td>M</td>\n",
       "      <td>Woodinville</td>\n",
       "      <td>WA</td>\n",
       "      <td>USA</td>\n",
       "      <td>NaN</td>\n",
       "      <td>MI</td>\n",
       "      <td>0:21:05</td>\n",
       "      <td>...</td>\n",
       "      <td>1:45:20</td>\n",
       "      <td>2:06:35</td>\n",
       "      <td>2:28:02</td>\n",
       "      <td>2:48:52</td>\n",
       "      <td>0:06:49</td>\n",
       "      <td>-</td>\n",
       "      <td>2:58:31</td>\n",
       "      <td>2252</td>\n",
       "      <td>2129</td>\n",
       "      <td>1606</td>\n",
       "    </tr>\n",
       "    <tr>\n",
       "      <th>5476</th>\n",
       "      <td>6938</td>\n",
       "      <td>Oliver, Matthew</td>\n",
       "      <td>26</td>\n",
       "      <td>M</td>\n",
       "      <td>Santee</td>\n",
       "      <td>CA</td>\n",
       "      <td>USA</td>\n",
       "      <td>NaN</td>\n",
       "      <td>VI</td>\n",
       "      <td>0:22:30</td>\n",
       "      <td>...</td>\n",
       "      <td>1:52:26</td>\n",
       "      <td>2:15:49</td>\n",
       "      <td>2:39:54</td>\n",
       "      <td>3:03:40</td>\n",
       "      <td>0:07:24</td>\n",
       "      <td>-</td>\n",
       "      <td>3:13:43</td>\n",
       "      <td>5477</td>\n",
       "      <td>4877</td>\n",
       "      <td>2968</td>\n",
       "    </tr>\n",
       "    <tr>\n",
       "      <th>6327</th>\n",
       "      <td>12403</td>\n",
       "      <td>Brand, Thomas R.</td>\n",
       "      <td>31</td>\n",
       "      <td>M</td>\n",
       "      <td>Andover</td>\n",
       "      <td>MA</td>\n",
       "      <td>USA</td>\n",
       "      <td>NaN</td>\n",
       "      <td>VI</td>\n",
       "      <td>0:22:53</td>\n",
       "      <td>...</td>\n",
       "      <td>1:54:21</td>\n",
       "      <td>2:18:24</td>\n",
       "      <td>2:43:04</td>\n",
       "      <td>3:07:13</td>\n",
       "      <td>0:07:32</td>\n",
       "      <td>-</td>\n",
       "      <td>3:17:21</td>\n",
       "      <td>6328</td>\n",
       "      <td>5492</td>\n",
       "      <td>3132</td>\n",
       "    </tr>\n",
       "    <tr>\n",
       "      <th>7303</th>\n",
       "      <td>10099</td>\n",
       "      <td>Hunter, Richard E.</td>\n",
       "      <td>47</td>\n",
       "      <td>M</td>\n",
       "      <td>Folsom</td>\n",
       "      <td>CA</td>\n",
       "      <td>USA</td>\n",
       "      <td>NaN</td>\n",
       "      <td>VI</td>\n",
       "      <td>0:23:24</td>\n",
       "      <td>...</td>\n",
       "      <td>1:56:07</td>\n",
       "      <td>2:20:14</td>\n",
       "      <td>2:45:00</td>\n",
       "      <td>3:09:59</td>\n",
       "      <td>0:07:41</td>\n",
       "      <td>-</td>\n",
       "      <td>3:21:12</td>\n",
       "      <td>7304</td>\n",
       "      <td>6129</td>\n",
       "      <td>1007</td>\n",
       "    </tr>\n",
       "  </tbody>\n",
       "</table>\n",
       "<p>5 rows × 24 columns</p>\n",
       "</div>"
      ],
      "text/plain": [
       "        Bib                Name  Age M/F         City State Country Citizen  \\\n",
       "1669   3207   Balcom, Donald C.   41   M    Hollywood    MD     USA     NaN   \n",
       "2251   3310   Bryant, Andrew V.   33   M  Woodinville    WA     USA     NaN   \n",
       "5476   6938     Oliver, Matthew   26   M       Santee    CA     USA     NaN   \n",
       "6327  12403    Brand, Thomas R.   31   M      Andover    MA     USA     NaN   \n",
       "7303  10099  Hunter, Richard E.   47   M       Folsom    CA     USA     NaN   \n",
       "\n",
       "     Unnamed: 9       5K  ...      25K      30K      35K      40K     Pace  \\\n",
       "1669         VI  0:21:23  ...  1:44:29  2:05:28  2:26:50  2:47:02  0:06:43   \n",
       "2251         MI  0:21:05  ...  1:45:20  2:06:35  2:28:02  2:48:52  0:06:49   \n",
       "5476         VI  0:22:30  ...  1:52:26  2:15:49  2:39:54  3:03:40  0:07:24   \n",
       "6327         VI  0:22:53  ...  1:54:21  2:18:24  2:43:04  3:07:13  0:07:32   \n",
       "7303         VI  0:23:24  ...  1:56:07  2:20:14  2:45:00  3:09:59  0:07:41   \n",
       "\n",
       "     Proj Time Official Time Overall Gender Division  \n",
       "1669         -       2:55:45    1670   1582      204  \n",
       "2251         -       2:58:31    2252   2129     1606  \n",
       "5476         -       3:13:43    5477   4877     2968  \n",
       "6327         -       3:17:21    6328   5492     3132  \n",
       "7303         -       3:21:12    7304   6129     1007  \n",
       "\n",
       "[5 rows x 24 columns]"
      ]
     },
     "execution_count": 19,
     "metadata": {},
     "output_type": "execute_result"
    }
   ],
   "source": [
    "#Looking at the non-null values in the dataset \n",
    "df_mar[df_mar['Unnamed: 9'].notnull()].head()"
   ]
  },
  {
   "cell_type": "code",
   "execution_count": 20,
   "id": "3f2a9e58",
   "metadata": {},
   "outputs": [
    {
     "data": {
      "text/plain": [
       "array(['VI', 'MI', 'VI', 'VI', 'VI', 'MI', 'VI', 'MI', 'VI', 'VI', 'VI',\n",
       "       'VI', 'VI', 'VI', 'VI', 'VI', 'VI', 'VI', 'VI', 'VI', 'MI', 'VI',\n",
       "       'VI', 'VI', 'MI', 'MI', 'VI', 'VI', 'MI', 'VI', 'VI', 'MI', 'MI',\n",
       "       'MI', 'VI', 'VI', 'MI', 'MI', 'VI', 'VI', 'VI', 'MI', 'VI', 'VI',\n",
       "       'VI', 'MI', 'MI', 'MI', 'MI', 'VI', 'VI', 'MI', 'MI', 'MI', 'MI',\n",
       "       'VI', 'MI', 'VI', 'MI', 'MI', 'MI', 'MI', 'MI', 'MI', 'MI', 'MI',\n",
       "       'MI'], dtype=object)"
      ]
     },
     "execution_count": 20,
     "metadata": {},
     "output_type": "execute_result"
    }
   ],
   "source": [
    "df_mar[df_mar['Unnamed: 9'].notnull()]['Unnamed: 9'].values"
   ]
  },
  {
   "cell_type": "code",
   "execution_count": 21,
   "id": "c3181dae",
   "metadata": {},
   "outputs": [
    {
     "data": {
      "text/plain": [
       "(6, 24)"
      ]
     },
     "execution_count": 21,
     "metadata": {},
     "output_type": "execute_result"
    }
   ],
   "source": [
    "df_mar[df_mar['Age'] > 80].shape"
   ]
  },
  {
   "cell_type": "code",
   "execution_count": 22,
   "id": "04de67a2",
   "metadata": {},
   "outputs": [
    {
     "data": {
      "text/html": [
       "<div>\n",
       "<style scoped>\n",
       "    .dataframe tbody tr th:only-of-type {\n",
       "        vertical-align: middle;\n",
       "    }\n",
       "\n",
       "    .dataframe tbody tr th {\n",
       "        vertical-align: top;\n",
       "    }\n",
       "\n",
       "    .dataframe thead th {\n",
       "        text-align: right;\n",
       "    }\n",
       "</style>\n",
       "<table border=\"1\" class=\"dataframe\">\n",
       "  <thead>\n",
       "    <tr style=\"text-align: right;\">\n",
       "      <th></th>\n",
       "      <th>Name</th>\n",
       "      <th>Age</th>\n",
       "      <th>City</th>\n",
       "      <th>Country</th>\n",
       "      <th>Official Time</th>\n",
       "    </tr>\n",
       "  </thead>\n",
       "  <tbody>\n",
       "    <tr>\n",
       "      <th>11886</th>\n",
       "      <td>Taivassalo, Keijo K.</td>\n",
       "      <td>76</td>\n",
       "      <td>Thornhill</td>\n",
       "      <td>CAN</td>\n",
       "      <td>3:35:21</td>\n",
       "    </tr>\n",
       "    <tr>\n",
       "      <th>18655</th>\n",
       "      <td>Burgasser, Joseph M</td>\n",
       "      <td>76</td>\n",
       "      <td>St Petersburg</td>\n",
       "      <td>USA</td>\n",
       "      <td>3:58:57</td>\n",
       "    </tr>\n",
       "    <tr>\n",
       "      <th>19583</th>\n",
       "      <td>Gornish, Jerry</td>\n",
       "      <td>77</td>\n",
       "      <td>Bala Cynwyd</td>\n",
       "      <td>USA</td>\n",
       "      <td>4:04:10</td>\n",
       "    </tr>\n",
       "    <tr>\n",
       "      <th>19743</th>\n",
       "      <td>Cerminaro, Anthony J. Sr.</td>\n",
       "      <td>78</td>\n",
       "      <td>Jermyn</td>\n",
       "      <td>USA</td>\n",
       "      <td>4:05:03</td>\n",
       "    </tr>\n",
       "    <tr>\n",
       "      <th>19984</th>\n",
       "      <td>Meyrat, Danilo</td>\n",
       "      <td>78</td>\n",
       "      <td>Muriaux</td>\n",
       "      <td>SUI</td>\n",
       "      <td>4:06:40</td>\n",
       "    </tr>\n",
       "    <tr>\n",
       "      <th>21625</th>\n",
       "      <td>Wilson, Harold</td>\n",
       "      <td>82</td>\n",
       "      <td>Tyler</td>\n",
       "      <td>USA</td>\n",
       "      <td>4:18:00</td>\n",
       "    </tr>\n",
       "    <tr>\n",
       "      <th>21976</th>\n",
       "      <td>Miller, Gerald W</td>\n",
       "      <td>78</td>\n",
       "      <td>Calgary</td>\n",
       "      <td>CAN</td>\n",
       "      <td>4:21:05</td>\n",
       "    </tr>\n",
       "    <tr>\n",
       "      <th>22161</th>\n",
       "      <td>Polidori, Peter J</td>\n",
       "      <td>77</td>\n",
       "      <td>Bingham Farms</td>\n",
       "      <td>USA</td>\n",
       "      <td>4:22:27</td>\n",
       "    </tr>\n",
       "    <tr>\n",
       "      <th>22195</th>\n",
       "      <td>Ichida, Susumu</td>\n",
       "      <td>77</td>\n",
       "      <td>Tokyo</td>\n",
       "      <td>JPN</td>\n",
       "      <td>4:22:41</td>\n",
       "    </tr>\n",
       "    <tr>\n",
       "      <th>22267</th>\n",
       "      <td>Iffrig, William G.</td>\n",
       "      <td>80</td>\n",
       "      <td>Lake Stevens</td>\n",
       "      <td>USA</td>\n",
       "      <td>4:23:13</td>\n",
       "    </tr>\n",
       "    <tr>\n",
       "      <th>22620</th>\n",
       "      <td>Borrett, Liz</td>\n",
       "      <td>76</td>\n",
       "      <td>Kelowna</td>\n",
       "      <td>CAN</td>\n",
       "      <td>4:26:36</td>\n",
       "    </tr>\n",
       "    <tr>\n",
       "      <th>22645</th>\n",
       "      <td>Schleisman, Jim T</td>\n",
       "      <td>81</td>\n",
       "      <td>Jefferson</td>\n",
       "      <td>USA</td>\n",
       "      <td>4:26:49</td>\n",
       "    </tr>\n",
       "    <tr>\n",
       "      <th>22879</th>\n",
       "      <td>Kwan, Peter</td>\n",
       "      <td>77</td>\n",
       "      <td>Edmonton</td>\n",
       "      <td>CAN</td>\n",
       "      <td>4:29:26</td>\n",
       "    </tr>\n",
       "    <tr>\n",
       "      <th>22949</th>\n",
       "      <td>Kelly, Frank</td>\n",
       "      <td>76</td>\n",
       "      <td>Saint John</td>\n",
       "      <td>CAN</td>\n",
       "      <td>4:30:06</td>\n",
       "    </tr>\n",
       "    <tr>\n",
       "      <th>22996</th>\n",
       "      <td>Henseler, Hans H</td>\n",
       "      <td>76</td>\n",
       "      <td>Decatur</td>\n",
       "      <td>USA</td>\n",
       "      <td>4:30:35</td>\n",
       "    </tr>\n",
       "    <tr>\n",
       "      <th>23704</th>\n",
       "      <td>Takano, Mitsutoshi</td>\n",
       "      <td>76</td>\n",
       "      <td>Tokyo</td>\n",
       "      <td>JPN</td>\n",
       "      <td>4:38:56</td>\n",
       "    </tr>\n",
       "    <tr>\n",
       "      <th>23883</th>\n",
       "      <td>Roake, Sam</td>\n",
       "      <td>79</td>\n",
       "      <td>San Francisco</td>\n",
       "      <td>USA</td>\n",
       "      <td>4:41:15</td>\n",
       "    </tr>\n",
       "    <tr>\n",
       "      <th>24780</th>\n",
       "      <td>Phay, Robert E.</td>\n",
       "      <td>76</td>\n",
       "      <td>Chapel Hill</td>\n",
       "      <td>USA</td>\n",
       "      <td>4:57:04</td>\n",
       "    </tr>\n",
       "    <tr>\n",
       "      <th>24874</th>\n",
       "      <td>Kuhlmey, Juergen D.</td>\n",
       "      <td>77</td>\n",
       "      <td>Oldenburg</td>\n",
       "      <td>GER</td>\n",
       "      <td>4:58:45</td>\n",
       "    </tr>\n",
       "    <tr>\n",
       "      <th>24951</th>\n",
       "      <td>Kreikenbohm, Juergen M.</td>\n",
       "      <td>76</td>\n",
       "      <td>Meine</td>\n",
       "      <td>GER</td>\n",
       "      <td>5:00:07</td>\n",
       "    </tr>\n",
       "    <tr>\n",
       "      <th>25033</th>\n",
       "      <td>Huyffer, Paul S</td>\n",
       "      <td>76</td>\n",
       "      <td>Shelburne</td>\n",
       "      <td>USA</td>\n",
       "      <td>5:02:18</td>\n",
       "    </tr>\n",
       "    <tr>\n",
       "      <th>25445</th>\n",
       "      <td>Elgie, Douglas</td>\n",
       "      <td>80</td>\n",
       "      <td>Rochester Hills</td>\n",
       "      <td>USA</td>\n",
       "      <td>5:13:37</td>\n",
       "    </tr>\n",
       "    <tr>\n",
       "      <th>25654</th>\n",
       "      <td>Widnall, William S.</td>\n",
       "      <td>77</td>\n",
       "      <td>Lexington</td>\n",
       "      <td>USA</td>\n",
       "      <td>5:19:39</td>\n",
       "    </tr>\n",
       "    <tr>\n",
       "      <th>25685</th>\n",
       "      <td>Sime, Colben K</td>\n",
       "      <td>81</td>\n",
       "      <td>Sunriver</td>\n",
       "      <td>USA</td>\n",
       "      <td>5:20:49</td>\n",
       "    </tr>\n",
       "    <tr>\n",
       "      <th>25691</th>\n",
       "      <td>Marrin, Thomas H.</td>\n",
       "      <td>82</td>\n",
       "      <td>Fremont</td>\n",
       "      <td>USA</td>\n",
       "      <td>5:20:55</td>\n",
       "    </tr>\n",
       "    <tr>\n",
       "      <th>25842</th>\n",
       "      <td>Shuff, Daniel B</td>\n",
       "      <td>80</td>\n",
       "      <td>San Antonio</td>\n",
       "      <td>USA</td>\n",
       "      <td>5:25:57</td>\n",
       "    </tr>\n",
       "    <tr>\n",
       "      <th>25844</th>\n",
       "      <td>Berland, Jean</td>\n",
       "      <td>76</td>\n",
       "      <td>Plaisir</td>\n",
       "      <td>FRA</td>\n",
       "      <td>5:26:02</td>\n",
       "    </tr>\n",
       "    <tr>\n",
       "      <th>25848</th>\n",
       "      <td>Gura, George M.</td>\n",
       "      <td>78</td>\n",
       "      <td>Rochester</td>\n",
       "      <td>USA</td>\n",
       "      <td>5:26:08</td>\n",
       "    </tr>\n",
       "    <tr>\n",
       "      <th>26018</th>\n",
       "      <td>Shimojo, Michiharu</td>\n",
       "      <td>79</td>\n",
       "      <td>Tokyo</td>\n",
       "      <td>JPN</td>\n",
       "      <td>5:32:39</td>\n",
       "    </tr>\n",
       "    <tr>\n",
       "      <th>26166</th>\n",
       "      <td>McDougald, Ronald J.</td>\n",
       "      <td>76</td>\n",
       "      <td>Lincoln</td>\n",
       "      <td>USA</td>\n",
       "      <td>5:39:09</td>\n",
       "    </tr>\n",
       "    <tr>\n",
       "      <th>26363</th>\n",
       "      <td>Dugger, David R</td>\n",
       "      <td>76</td>\n",
       "      <td>Howell</td>\n",
       "      <td>USA</td>\n",
       "      <td>5:50:55</td>\n",
       "    </tr>\n",
       "    <tr>\n",
       "      <th>26375</th>\n",
       "      <td>Holliday, Bob</td>\n",
       "      <td>76</td>\n",
       "      <td>Ocala</td>\n",
       "      <td>USA</td>\n",
       "      <td>5:51:35</td>\n",
       "    </tr>\n",
       "    <tr>\n",
       "      <th>26410</th>\n",
       "      <td>Beiers, Katherine</td>\n",
       "      <td>82</td>\n",
       "      <td>Santa Cruz</td>\n",
       "      <td>USA</td>\n",
       "      <td>5:53:40</td>\n",
       "    </tr>\n",
       "    <tr>\n",
       "      <th>26460</th>\n",
       "      <td>Bogardo, Stephen</td>\n",
       "      <td>80</td>\n",
       "      <td>Ocean City</td>\n",
       "      <td>USA</td>\n",
       "      <td>5:56:24</td>\n",
       "    </tr>\n",
       "    <tr>\n",
       "      <th>26487</th>\n",
       "      <td>Green, Jimmy</td>\n",
       "      <td>82</td>\n",
       "      <td>Marblehead</td>\n",
       "      <td>USA</td>\n",
       "      <td>5:57:54</td>\n",
       "    </tr>\n",
       "    <tr>\n",
       "      <th>26511</th>\n",
       "      <td>Tsuchiya, Koji</td>\n",
       "      <td>80</td>\n",
       "      <td>Tokyo</td>\n",
       "      <td>JPN</td>\n",
       "      <td>5:59:54</td>\n",
       "    </tr>\n",
       "    <tr>\n",
       "      <th>26554</th>\n",
       "      <td>Bostrom, Fred D.</td>\n",
       "      <td>77</td>\n",
       "      <td>Brackney</td>\n",
       "      <td>USA</td>\n",
       "      <td>6:04:42</td>\n",
       "    </tr>\n",
       "    <tr>\n",
       "      <th>26563</th>\n",
       "      <td>Paris, Samuel</td>\n",
       "      <td>77</td>\n",
       "      <td>North Syracuse</td>\n",
       "      <td>USA</td>\n",
       "      <td>6:06:26</td>\n",
       "    </tr>\n",
       "  </tbody>\n",
       "</table>\n",
       "</div>"
      ],
      "text/plain": [
       "                            Name  Age             City Country Official Time\n",
       "11886       Taivassalo, Keijo K.   76        Thornhill     CAN       3:35:21\n",
       "18655        Burgasser, Joseph M   76    St Petersburg     USA       3:58:57\n",
       "19583             Gornish, Jerry   77      Bala Cynwyd     USA       4:04:10\n",
       "19743  Cerminaro, Anthony J. Sr.   78           Jermyn     USA       4:05:03\n",
       "19984             Meyrat, Danilo   78          Muriaux     SUI       4:06:40\n",
       "21625             Wilson, Harold   82            Tyler     USA       4:18:00\n",
       "21976           Miller, Gerald W   78          Calgary     CAN       4:21:05\n",
       "22161          Polidori, Peter J   77    Bingham Farms     USA       4:22:27\n",
       "22195             Ichida, Susumu   77            Tokyo     JPN       4:22:41\n",
       "22267         Iffrig, William G.   80     Lake Stevens     USA       4:23:13\n",
       "22620               Borrett, Liz   76          Kelowna     CAN       4:26:36\n",
       "22645          Schleisman, Jim T   81        Jefferson     USA       4:26:49\n",
       "22879                Kwan, Peter   77         Edmonton     CAN       4:29:26\n",
       "22949               Kelly, Frank   76       Saint John     CAN       4:30:06\n",
       "22996           Henseler, Hans H   76          Decatur     USA       4:30:35\n",
       "23704         Takano, Mitsutoshi   76            Tokyo     JPN       4:38:56\n",
       "23883                 Roake, Sam   79    San Francisco     USA       4:41:15\n",
       "24780            Phay, Robert E.   76      Chapel Hill     USA       4:57:04\n",
       "24874        Kuhlmey, Juergen D.   77        Oldenburg     GER       4:58:45\n",
       "24951    Kreikenbohm, Juergen M.   76            Meine     GER       5:00:07\n",
       "25033            Huyffer, Paul S   76        Shelburne     USA       5:02:18\n",
       "25445             Elgie, Douglas   80  Rochester Hills     USA       5:13:37\n",
       "25654        Widnall, William S.   77        Lexington     USA       5:19:39\n",
       "25685             Sime, Colben K   81         Sunriver     USA       5:20:49\n",
       "25691          Marrin, Thomas H.   82          Fremont     USA       5:20:55\n",
       "25842            Shuff, Daniel B   80      San Antonio     USA       5:25:57\n",
       "25844              Berland, Jean   76          Plaisir     FRA       5:26:02\n",
       "25848            Gura, George M.   78        Rochester     USA       5:26:08\n",
       "26018         Shimojo, Michiharu   79            Tokyo     JPN       5:32:39\n",
       "26166       McDougald, Ronald J.   76          Lincoln     USA       5:39:09\n",
       "26363            Dugger, David R   76           Howell     USA       5:50:55\n",
       "26375              Holliday, Bob   76            Ocala     USA       5:51:35\n",
       "26410          Beiers, Katherine   82       Santa Cruz     USA       5:53:40\n",
       "26460           Bogardo, Stephen   80       Ocean City     USA       5:56:24\n",
       "26487               Green, Jimmy   82       Marblehead     USA       5:57:54\n",
       "26511             Tsuchiya, Koji   80            Tokyo     JPN       5:59:54\n",
       "26554           Bostrom, Fred D.   77         Brackney     USA       6:04:42\n",
       "26563              Paris, Samuel   77   North Syracuse     USA       6:06:26"
      ]
     },
     "execution_count": 22,
     "metadata": {},
     "output_type": "execute_result"
    }
   ],
   "source": [
    "df_mar[df_mar['Age'] > 75][['Name','Age','City','Country','Official Time']]"
   ]
  },
  {
   "cell_type": "code",
   "execution_count": 23,
   "id": "a592f272",
   "metadata": {},
   "outputs": [
    {
     "data": {
      "text/html": [
       "<div>\n",
       "<style scoped>\n",
       "    .dataframe tbody tr th:only-of-type {\n",
       "        vertical-align: middle;\n",
       "    }\n",
       "\n",
       "    .dataframe tbody tr th {\n",
       "        vertical-align: top;\n",
       "    }\n",
       "\n",
       "    .dataframe thead th {\n",
       "        text-align: right;\n",
       "    }\n",
       "</style>\n",
       "<table border=\"1\" class=\"dataframe\">\n",
       "  <thead>\n",
       "    <tr style=\"text-align: right;\">\n",
       "      <th></th>\n",
       "      <th>Name</th>\n",
       "      <th>Age</th>\n",
       "      <th>City</th>\n",
       "      <th>Country</th>\n",
       "      <th>Official Time</th>\n",
       "    </tr>\n",
       "  </thead>\n",
       "  <tbody>\n",
       "    <tr>\n",
       "      <th>21625</th>\n",
       "      <td>Wilson, Harold</td>\n",
       "      <td>82</td>\n",
       "      <td>Tyler</td>\n",
       "      <td>USA</td>\n",
       "      <td>4:18:00</td>\n",
       "    </tr>\n",
       "    <tr>\n",
       "      <th>22645</th>\n",
       "      <td>Schleisman, Jim T</td>\n",
       "      <td>81</td>\n",
       "      <td>Jefferson</td>\n",
       "      <td>USA</td>\n",
       "      <td>4:26:49</td>\n",
       "    </tr>\n",
       "    <tr>\n",
       "      <th>25685</th>\n",
       "      <td>Sime, Colben K</td>\n",
       "      <td>81</td>\n",
       "      <td>Sunriver</td>\n",
       "      <td>USA</td>\n",
       "      <td>5:20:49</td>\n",
       "    </tr>\n",
       "    <tr>\n",
       "      <th>25691</th>\n",
       "      <td>Marrin, Thomas H.</td>\n",
       "      <td>82</td>\n",
       "      <td>Fremont</td>\n",
       "      <td>USA</td>\n",
       "      <td>5:20:55</td>\n",
       "    </tr>\n",
       "    <tr>\n",
       "      <th>26410</th>\n",
       "      <td>Beiers, Katherine</td>\n",
       "      <td>82</td>\n",
       "      <td>Santa Cruz</td>\n",
       "      <td>USA</td>\n",
       "      <td>5:53:40</td>\n",
       "    </tr>\n",
       "    <tr>\n",
       "      <th>26487</th>\n",
       "      <td>Green, Jimmy</td>\n",
       "      <td>82</td>\n",
       "      <td>Marblehead</td>\n",
       "      <td>USA</td>\n",
       "      <td>5:57:54</td>\n",
       "    </tr>\n",
       "  </tbody>\n",
       "</table>\n",
       "</div>"
      ],
      "text/plain": [
       "                    Name  Age        City Country Official Time\n",
       "21625     Wilson, Harold   82       Tyler     USA       4:18:00\n",
       "22645  Schleisman, Jim T   81   Jefferson     USA       4:26:49\n",
       "25685     Sime, Colben K   81    Sunriver     USA       5:20:49\n",
       "25691  Marrin, Thomas H.   82     Fremont     USA       5:20:55\n",
       "26410  Beiers, Katherine   82  Santa Cruz     USA       5:53:40\n",
       "26487       Green, Jimmy   82  Marblehead     USA       5:57:54"
      ]
     },
     "execution_count": 23,
     "metadata": {},
     "output_type": "execute_result"
    }
   ],
   "source": [
    "df_mar[(df_mar['Age']> 80)&(df_mar['Country']==\"USA\")][['Name','Age','City','Country','Official Time']]"
   ]
  },
  {
   "cell_type": "code",
   "execution_count": 24,
   "id": "5fb000f1",
   "metadata": {},
   "outputs": [],
   "source": [
    "#Creating a function to convert the datetime columns to minutes \n",
    "def to_minutes(row):\n",
    "    x = row.split(\":\")\n",
    "    return (int(x[0]) * 3600 + int(x[1]) * 60 + int(x[0])) / 60"
   ]
  },
  {
   "cell_type": "code",
   "execution_count": 25,
   "id": "4e812dee",
   "metadata": {},
   "outputs": [],
   "source": [
    "df_mar['TimeInMinutes'] = df_mar['Official Time'].apply(to_minutes)"
   ]
  },
  {
   "cell_type": "code",
   "execution_count": 26,
   "id": "74297b0d",
   "metadata": {},
   "outputs": [
    {
     "data": {
      "text/html": [
       "<div>\n",
       "<style scoped>\n",
       "    .dataframe tbody tr th:only-of-type {\n",
       "        vertical-align: middle;\n",
       "    }\n",
       "\n",
       "    .dataframe tbody tr th {\n",
       "        vertical-align: top;\n",
       "    }\n",
       "\n",
       "    .dataframe thead th {\n",
       "        text-align: right;\n",
       "    }\n",
       "</style>\n",
       "<table border=\"1\" class=\"dataframe\">\n",
       "  <thead>\n",
       "    <tr style=\"text-align: right;\">\n",
       "      <th></th>\n",
       "      <th>Official Time</th>\n",
       "      <th>TimeInMinutes</th>\n",
       "    </tr>\n",
       "  </thead>\n",
       "  <tbody>\n",
       "    <tr>\n",
       "      <th>0</th>\n",
       "      <td>2:09:17</td>\n",
       "      <td>129.033333</td>\n",
       "    </tr>\n",
       "    <tr>\n",
       "      <th>1</th>\n",
       "      <td>2:09:48</td>\n",
       "      <td>129.033333</td>\n",
       "    </tr>\n",
       "    <tr>\n",
       "      <th>2</th>\n",
       "      <td>2:10:22</td>\n",
       "      <td>130.033333</td>\n",
       "    </tr>\n",
       "    <tr>\n",
       "      <th>3</th>\n",
       "      <td>2:10:47</td>\n",
       "      <td>130.033333</td>\n",
       "    </tr>\n",
       "    <tr>\n",
       "      <th>4</th>\n",
       "      <td>2:10:49</td>\n",
       "      <td>130.033333</td>\n",
       "    </tr>\n",
       "    <tr>\n",
       "      <th>...</th>\n",
       "      <td>...</td>\n",
       "      <td>...</td>\n",
       "    </tr>\n",
       "    <tr>\n",
       "      <th>26593</th>\n",
       "      <td>7:38:56</td>\n",
       "      <td>458.116667</td>\n",
       "    </tr>\n",
       "    <tr>\n",
       "      <th>26594</th>\n",
       "      <td>7:51:30</td>\n",
       "      <td>471.116667</td>\n",
       "    </tr>\n",
       "    <tr>\n",
       "      <th>26595</th>\n",
       "      <td>7:59:33</td>\n",
       "      <td>479.116667</td>\n",
       "    </tr>\n",
       "    <tr>\n",
       "      <th>26596</th>\n",
       "      <td>8:00:37</td>\n",
       "      <td>480.133333</td>\n",
       "    </tr>\n",
       "    <tr>\n",
       "      <th>26597</th>\n",
       "      <td>8:06:01</td>\n",
       "      <td>486.133333</td>\n",
       "    </tr>\n",
       "  </tbody>\n",
       "</table>\n",
       "<p>26598 rows × 2 columns</p>\n",
       "</div>"
      ],
      "text/plain": [
       "      Official Time  TimeInMinutes\n",
       "0           2:09:17     129.033333\n",
       "1           2:09:48     129.033333\n",
       "2           2:10:22     130.033333\n",
       "3           2:10:47     130.033333\n",
       "4           2:10:49     130.033333\n",
       "...             ...            ...\n",
       "26593       7:38:56     458.116667\n",
       "26594       7:51:30     471.116667\n",
       "26595       7:59:33     479.116667\n",
       "26596       8:00:37     480.133333\n",
       "26597       8:06:01     486.133333\n",
       "\n",
       "[26598 rows x 2 columns]"
      ]
     },
     "execution_count": 26,
     "metadata": {},
     "output_type": "execute_result"
    }
   ],
   "source": [
    "df_mar[['Official Time','TimeInMinutes']]"
   ]
  },
  {
   "cell_type": "code",
   "execution_count": 27,
   "id": "383f59f9",
   "metadata": {},
   "outputs": [],
   "source": [
    "#Calculating the Pace of all the participants in the marathon \n",
    "df_mar['Pace'] = df_mar['TimeInMinutes']/26.2"
   ]
  },
  {
   "cell_type": "code",
   "execution_count": 28,
   "id": "6734ab17",
   "metadata": {},
   "outputs": [
    {
     "data": {
      "text/plain": [
       "count    26598.000000\n",
       "mean         8.625546\n",
       "std          1.545006\n",
       "min          4.924936\n",
       "25%          7.559160\n",
       "50%          8.360687\n",
       "75%          9.391858\n",
       "max         18.554707\n",
       "Name: Pace, dtype: float64"
      ]
     },
     "execution_count": 28,
     "metadata": {},
     "output_type": "execute_result"
    }
   ],
   "source": [
    "df_mar['Pace'].describe()"
   ]
  },
  {
   "cell_type": "code",
   "execution_count": 29,
   "id": "7184de11",
   "metadata": {},
   "outputs": [
    {
     "data": {
      "text/plain": [
       "<AxesSubplot:>"
      ]
     },
     "execution_count": 29,
     "metadata": {},
     "output_type": "execute_result"
    },
    {
     "data": {
      "image/png": "[encoded data removed]",
      "text/plain": [
       "<Figure size 432x288 with 1 Axes>"
      ]
     },
     "metadata": {
      "needs_background": "light"
     },
     "output_type": "display_data"
    }
   ],
   "source": [
    "df_mar['Pace'].hist(bins=20)"
   ]
  },
  {
   "cell_type": "code",
   "execution_count": 74,
   "id": "a82eac3d",
   "metadata": {
    "scrolled": true
   },
   "outputs": [
    {
     "data": {
      "text/html": [
       "<div>\n",
       "<style scoped>\n",
       "    .dataframe tbody tr th:only-of-type {\n",
       "        vertical-align: middle;\n",
       "    }\n",
       "\n",
       "    .dataframe tbody tr th {\n",
       "        vertical-align: top;\n",
       "    }\n",
       "\n",
       "    .dataframe thead th {\n",
       "        text-align: right;\n",
       "    }\n",
       "</style>\n",
       "<table border=\"1\" class=\"dataframe\">\n",
       "  <thead>\n",
       "    <tr style=\"text-align: right;\">\n",
       "      <th></th>\n",
       "      <th>Bib</th>\n",
       "      <th>Name</th>\n",
       "      <th>Age</th>\n",
       "      <th>M/F</th>\n",
       "      <th>City</th>\n",
       "      <th>State</th>\n",
       "      <th>Country</th>\n",
       "      <th>Citizen</th>\n",
       "      <th>Unnamed: 9</th>\n",
       "      <th>5K</th>\n",
       "      <th>...</th>\n",
       "      <th>30K</th>\n",
       "      <th>35K</th>\n",
       "      <th>40K</th>\n",
       "      <th>Pace</th>\n",
       "      <th>Proj Time</th>\n",
       "      <th>Official Time</th>\n",
       "      <th>Overall</th>\n",
       "      <th>Gender</th>\n",
       "      <th>Division</th>\n",
       "      <th>TimeInMinutes</th>\n",
       "    </tr>\n",
       "  </thead>\n",
       "  <tbody>\n",
       "    <tr>\n",
       "      <th>11886</th>\n",
       "      <td>20278</td>\n",
       "      <td>Taivassalo, Keijo K.</td>\n",
       "      <td>76</td>\n",
       "      <td>M</td>\n",
       "      <td>Thornhill</td>\n",
       "      <td>ON</td>\n",
       "      <td>CAN</td>\n",
       "      <td>NaN</td>\n",
       "      <td>NaN</td>\n",
       "      <td>0:25:25</td>\n",
       "      <td>...</td>\n",
       "      <td>2:31:34</td>\n",
       "      <td>2:58:15</td>\n",
       "      <td>3:24:16</td>\n",
       "      <td>8.208015</td>\n",
       "      <td>-</td>\n",
       "      <td>3:35:21</td>\n",
       "      <td>11887</td>\n",
       "      <td>8510</td>\n",
       "      <td>1</td>\n",
       "      <td>215.05</td>\n",
       "    </tr>\n",
       "  </tbody>\n",
       "</table>\n",
       "<p>1 rows × 25 columns</p>\n",
       "</div>"
      ],
      "text/plain": [
       "         Bib                  Name  Age M/F       City State Country Citizen  \\\n",
       "11886  20278  Taivassalo, Keijo K.   76   M  Thornhill    ON     CAN     NaN   \n",
       "\n",
       "      Unnamed: 9       5K  ...      30K      35K      40K      Pace Proj Time  \\\n",
       "11886        NaN  0:25:25  ...  2:31:34  2:58:15  3:24:16  8.208015         -   \n",
       "\n",
       "      Official Time Overall Gender  Division TimeInMinutes  \n",
       "11886       3:35:21   11887   8510         1        215.05  \n",
       "\n",
       "[1 rows x 25 columns]"
      ]
     },
     "execution_count": 74,
     "metadata": {},
     "output_type": "execute_result"
    }
   ],
   "source": [
    "fast = df_mar[(df_mar['Age']>75)]['Pace'].min()\n",
    "df_mar[(df_mar['Age']>75)&(df_mar['Pace']==fast)]"
   ]
  },
  {
   "cell_type": "markdown",
   "id": "295229a3",
   "metadata": {},
   "source": [
    "8:13 minutes per mile pace"
   ]
  },
  {
   "cell_type": "code",
   "execution_count": 31,
   "id": "67b58dea",
   "metadata": {},
   "outputs": [
    {
     "data": {
      "text/plain": [
       "2551"
      ]
     },
     "execution_count": 31,
     "metadata": {},
     "output_type": "execute_result"
    }
   ],
   "source": [
    "df_mar['State'].isnull().sum()"
   ]
  },
  {
   "cell_type": "code",
   "execution_count": 32,
   "id": "8e1171d1",
   "metadata": {},
   "outputs": [
    {
     "data": {
      "text/plain": [
       "count     24047\n",
       "unique       69\n",
       "top          MA\n",
       "freq       4694\n",
       "Name: State, dtype: object"
      ]
     },
     "execution_count": 32,
     "metadata": {},
     "output_type": "execute_result"
    }
   ],
   "source": [
    "df_mar['State'].describe()"
   ]
  },
  {
   "cell_type": "code",
   "execution_count": 33,
   "id": "53d7c324",
   "metadata": {},
   "outputs": [
    {
     "data": {
      "text/plain": [
       "array([nan, 'MI', 'CA', 'OR', 'CO', 'AZ', 'MO', 'CT', 'QC', 'MA', 'NC',\n",
       "       'IL', 'NY', 'WA', 'MD', 'NH', 'IA', 'VA', 'PA', 'NJ', 'WI', 'SC',\n",
       "       'TX', 'OH', 'TN', 'MN', 'FL', 'GA', 'AL', 'HI', 'RI', 'ME', 'OK',\n",
       "       'UT', 'AB', 'IN', 'DC', 'PE', 'ON', 'KS', 'VT', 'BC', 'ID', 'NE',\n",
       "       'AK', 'NV', 'KY', 'ND', 'NM', 'AR', 'WV', 'LA', 'NS', 'NB', 'DE',\n",
       "       'MT', 'SD', 'NL', 'WY', 'MS', 'MB', 'PR', 'NT', 'GU', 'AP', 'SK',\n",
       "       'AE', 'YT', 'AA', 'VI'], dtype=object)"
      ]
     },
     "execution_count": 33,
     "metadata": {},
     "output_type": "execute_result"
    }
   ],
   "source": [
    "df_mar['State'].unique()"
   ]
  },
  {
   "cell_type": "code",
   "execution_count": 34,
   "id": "0bc86aac",
   "metadata": {},
   "outputs": [],
   "source": [
    "states = df_mar[df_mar['State'].notnull()]"
   ]
  },
  {
   "cell_type": "code",
   "execution_count": 35,
   "id": "3cd3219c",
   "metadata": {},
   "outputs": [
    {
     "data": {
      "text/html": [
       "<div>\n",
       "<style scoped>\n",
       "    .dataframe tbody tr th:only-of-type {\n",
       "        vertical-align: middle;\n",
       "    }\n",
       "\n",
       "    .dataframe tbody tr th {\n",
       "        vertical-align: top;\n",
       "    }\n",
       "\n",
       "    .dataframe thead th {\n",
       "        text-align: right;\n",
       "    }\n",
       "</style>\n",
       "<table border=\"1\" class=\"dataframe\">\n",
       "  <thead>\n",
       "    <tr style=\"text-align: right;\">\n",
       "      <th></th>\n",
       "      <th>Age</th>\n",
       "      <th>Pace</th>\n",
       "    </tr>\n",
       "    <tr>\n",
       "      <th>State</th>\n",
       "      <th></th>\n",
       "      <th></th>\n",
       "    </tr>\n",
       "  </thead>\n",
       "  <tbody>\n",
       "    <tr>\n",
       "      <th>AA</th>\n",
       "      <td>35.33</td>\n",
       "      <td>8.22</td>\n",
       "    </tr>\n",
       "    <tr>\n",
       "      <th>AB</th>\n",
       "      <td>44.33</td>\n",
       "      <td>8.21</td>\n",
       "    </tr>\n",
       "    <tr>\n",
       "      <th>AE</th>\n",
       "      <td>38.33</td>\n",
       "      <td>8.81</td>\n",
       "    </tr>\n",
       "    <tr>\n",
       "      <th>AK</th>\n",
       "      <td>44.86</td>\n",
       "      <td>7.98</td>\n",
       "    </tr>\n",
       "    <tr>\n",
       "      <th>AL</th>\n",
       "      <td>43.37</td>\n",
       "      <td>8.22</td>\n",
       "    </tr>\n",
       "  </tbody>\n",
       "</table>\n",
       "</div>"
      ],
      "text/plain": [
       "         Age  Pace\n",
       "State             \n",
       "AA     35.33  8.22\n",
       "AB     44.33  8.21\n",
       "AE     38.33  8.81\n",
       "AK     44.86  7.98\n",
       "AL     43.37  8.22"
      ]
     },
     "execution_count": 35,
     "metadata": {},
     "output_type": "execute_result"
    }
   ],
   "source": [
    "states.groupby('State')[['Age','Pace']].mean().round(2).head()"
   ]
  },
  {
   "cell_type": "code",
   "execution_count": 36,
   "id": "baf6890c",
   "metadata": {},
   "outputs": [
    {
     "data": {
      "text/html": [
       "<div>\n",
       "<style scoped>\n",
       "    .dataframe tbody tr th:only-of-type {\n",
       "        vertical-align: middle;\n",
       "    }\n",
       "\n",
       "    .dataframe tbody tr th {\n",
       "        vertical-align: top;\n",
       "    }\n",
       "\n",
       "    .dataframe thead th {\n",
       "        text-align: right;\n",
       "    }\n",
       "</style>\n",
       "<table border=\"1\" class=\"dataframe\">\n",
       "  <thead>\n",
       "    <tr style=\"text-align: right;\">\n",
       "      <th></th>\n",
       "      <th>State</th>\n",
       "      <th>Pace</th>\n",
       "      <th>Age</th>\n",
       "    </tr>\n",
       "  </thead>\n",
       "  <tbody>\n",
       "    <tr>\n",
       "      <th>0</th>\n",
       "      <td>AA</td>\n",
       "      <td>8.220738</td>\n",
       "      <td>35.333333</td>\n",
       "    </tr>\n",
       "    <tr>\n",
       "      <th>1</th>\n",
       "      <td>AB</td>\n",
       "      <td>8.213565</td>\n",
       "      <td>44.329787</td>\n",
       "    </tr>\n",
       "    <tr>\n",
       "      <th>2</th>\n",
       "      <td>AE</td>\n",
       "      <td>8.806298</td>\n",
       "      <td>38.333333</td>\n",
       "    </tr>\n",
       "    <tr>\n",
       "      <th>3</th>\n",
       "      <td>AK</td>\n",
       "      <td>7.975312</td>\n",
       "      <td>44.857143</td>\n",
       "    </tr>\n",
       "    <tr>\n",
       "      <th>4</th>\n",
       "      <td>AL</td>\n",
       "      <td>8.218713</td>\n",
       "      <td>43.365385</td>\n",
       "    </tr>\n",
       "    <tr>\n",
       "      <th>...</th>\n",
       "      <td>...</td>\n",
       "      <td>...</td>\n",
       "      <td>...</td>\n",
       "    </tr>\n",
       "    <tr>\n",
       "      <th>64</th>\n",
       "      <td>WA</td>\n",
       "      <td>8.338330</td>\n",
       "      <td>43.856833</td>\n",
       "    </tr>\n",
       "    <tr>\n",
       "      <th>65</th>\n",
       "      <td>WI</td>\n",
       "      <td>8.252434</td>\n",
       "      <td>41.818616</td>\n",
       "    </tr>\n",
       "    <tr>\n",
       "      <th>66</th>\n",
       "      <td>WV</td>\n",
       "      <td>8.149947</td>\n",
       "      <td>43.434783</td>\n",
       "    </tr>\n",
       "    <tr>\n",
       "      <th>67</th>\n",
       "      <td>WY</td>\n",
       "      <td>8.540712</td>\n",
       "      <td>42.190476</td>\n",
       "    </tr>\n",
       "    <tr>\n",
       "      <th>68</th>\n",
       "      <td>YT</td>\n",
       "      <td>8.793469</td>\n",
       "      <td>53.666667</td>\n",
       "    </tr>\n",
       "  </tbody>\n",
       "</table>\n",
       "<p>69 rows × 3 columns</p>\n",
       "</div>"
      ],
      "text/plain": [
       "   State      Pace        Age\n",
       "0     AA  8.220738  35.333333\n",
       "1     AB  8.213565  44.329787\n",
       "2     AE  8.806298  38.333333\n",
       "3     AK  7.975312  44.857143\n",
       "4     AL  8.218713  43.365385\n",
       "..   ...       ...        ...\n",
       "64    WA  8.338330  43.856833\n",
       "65    WI  8.252434  41.818616\n",
       "66    WV  8.149947  43.434783\n",
       "67    WY  8.540712  42.190476\n",
       "68    YT  8.793469  53.666667\n",
       "\n",
       "[69 rows x 3 columns]"
      ]
     },
     "execution_count": 36,
     "metadata": {},
     "output_type": "execute_result"
    }
   ],
   "source": [
    "avg = states[['State','Pace','Age']].groupby('State',as_index=False).mean()\n",
    "avg"
   ]
  },
  {
   "cell_type": "code",
   "execution_count": 37,
   "id": "1fa62b82",
   "metadata": {
    "scrolled": false
   },
   "outputs": [
    {
     "data": {
      "text/html": [
       "<div>\n",
       "<style scoped>\n",
       "    .dataframe tbody tr th:only-of-type {\n",
       "        vertical-align: middle;\n",
       "    }\n",
       "\n",
       "    .dataframe tbody tr th {\n",
       "        vertical-align: top;\n",
       "    }\n",
       "\n",
       "    .dataframe thead th {\n",
       "        text-align: right;\n",
       "    }\n",
       "</style>\n",
       "<table border=\"1\" class=\"dataframe\">\n",
       "  <thead>\n",
       "    <tr style=\"text-align: right;\">\n",
       "      <th></th>\n",
       "      <th>State</th>\n",
       "      <th>Pace</th>\n",
       "      <th>Age</th>\n",
       "    </tr>\n",
       "  </thead>\n",
       "  <tbody>\n",
       "    <tr>\n",
       "      <th>43</th>\n",
       "      <td>NT</td>\n",
       "      <td>7.177163</td>\n",
       "      <td>41.000000</td>\n",
       "    </tr>\n",
       "    <tr>\n",
       "      <th>5</th>\n",
       "      <td>AP</td>\n",
       "      <td>7.673664</td>\n",
       "      <td>41.500000</td>\n",
       "    </tr>\n",
       "    <tr>\n",
       "      <th>53</th>\n",
       "      <td>QC</td>\n",
       "      <td>7.897842</td>\n",
       "      <td>45.262664</td>\n",
       "    </tr>\n",
       "    <tr>\n",
       "      <th>3</th>\n",
       "      <td>AK</td>\n",
       "      <td>7.975312</td>\n",
       "      <td>44.857143</td>\n",
       "    </tr>\n",
       "    <tr>\n",
       "      <th>12</th>\n",
       "      <td>DC</td>\n",
       "      <td>8.025204</td>\n",
       "      <td>35.837349</td>\n",
       "    </tr>\n",
       "    <tr>\n",
       "      <th>...</th>\n",
       "      <td>...</td>\n",
       "      <td>...</td>\n",
       "      <td>...</td>\n",
       "    </tr>\n",
       "    <tr>\n",
       "      <th>56</th>\n",
       "      <td>SD</td>\n",
       "      <td>8.877226</td>\n",
       "      <td>42.805556</td>\n",
       "    </tr>\n",
       "    <tr>\n",
       "      <th>62</th>\n",
       "      <td>VI</td>\n",
       "      <td>9.047710</td>\n",
       "      <td>50.000000</td>\n",
       "    </tr>\n",
       "    <tr>\n",
       "      <th>38</th>\n",
       "      <td>NH</td>\n",
       "      <td>9.065130</td>\n",
       "      <td>42.256560</td>\n",
       "    </tr>\n",
       "    <tr>\n",
       "      <th>54</th>\n",
       "      <td>RI</td>\n",
       "      <td>9.158917</td>\n",
       "      <td>40.371622</td>\n",
       "    </tr>\n",
       "    <tr>\n",
       "      <th>25</th>\n",
       "      <td>MA</td>\n",
       "      <td>9.758962</td>\n",
       "      <td>37.620793</td>\n",
       "    </tr>\n",
       "  </tbody>\n",
       "</table>\n",
       "<p>69 rows × 3 columns</p>\n",
       "</div>"
      ],
      "text/plain": [
       "   State      Pace        Age\n",
       "43    NT  7.177163  41.000000\n",
       "5     AP  7.673664  41.500000\n",
       "53    QC  7.897842  45.262664\n",
       "3     AK  7.975312  44.857143\n",
       "12    DC  8.025204  35.837349\n",
       "..   ...       ...        ...\n",
       "56    SD  8.877226  42.805556\n",
       "62    VI  9.047710  50.000000\n",
       "38    NH  9.065130  42.256560\n",
       "54    RI  9.158917  40.371622\n",
       "25    MA  9.758962  37.620793\n",
       "\n",
       "[69 rows x 3 columns]"
      ]
     },
     "execution_count": 37,
     "metadata": {},
     "output_type": "execute_result"
    }
   ],
   "source": [
    "avg.sort_values(by='Pace')"
   ]
  },
  {
   "cell_type": "markdown",
   "id": "b06f096c",
   "metadata": {},
   "source": [
    "## EDA \n",
    "\n",
    "Marathon dataset 2019"
   ]
  },
  {
   "cell_type": "code",
   "execution_count": 38,
   "id": "1d51f3ca",
   "metadata": {},
   "outputs": [
    {
     "data": {
      "text/plain": [
       "Index(['Rank_Tot', 'Age', 'Gender', 'Country', 'Result_hr', 'Result_sec',\n",
       "       'Rank_Gender', 'Country_code'],\n",
       "      dtype='object')"
      ]
     },
     "execution_count": 38,
     "metadata": {},
     "output_type": "execute_result"
    }
   ],
   "source": [
    "df_mar19.columns"
   ]
  },
  {
   "cell_type": "code",
   "execution_count": 78,
   "id": "f6de25d1",
   "metadata": {},
   "outputs": [
    {
     "data": {
      "text/plain": [
       "Rank_Tot        0\n",
       "Age             0\n",
       "Gender          0\n",
       "Country         0\n",
       "Result_hr       0\n",
       "Result_sec      0\n",
       "Rank_Gender     0\n",
       "Country_code    0\n",
       "Result_min      0\n",
       "Pace            0\n",
       "dtype: int64"
      ]
     },
     "execution_count": 78,
     "metadata": {},
     "output_type": "execute_result"
    }
   ],
   "source": [
    "df_mar19.isnull().sum()"
   ]
  },
  {
   "cell_type": "code",
   "execution_count": 39,
   "id": "2c55e72b",
   "metadata": {},
   "outputs": [
    {
     "data": {
      "text/plain": [
       "array(['Kenya', 'Ethiopia', 'United States', 'Japan', 'Eritrea',\n",
       "       'Morocco', 'United Kingdom', 'Canada', 'Jordan', 'Australia',\n",
       "       'Germany', 'New Zealand', 'China', 'Dominican Republic', 'Israel',\n",
       "       'Argentina', 'Brazil', 'Turkey', 'France', 'Peru', 'Chile',\n",
       "       'Denmark', 'Poland', 'Norway', 'Finland', 'Portugal', 'Iceland',\n",
       "       'Latvia', 'Mexico', 'Colombia', 'Ireland', 'Trinidad and Tobago',\n",
       "       'Belgium', 'Hong Kong', 'Ecuador', 'Italy', 'Costa Rica', 'Taiwan',\n",
       "       'Spain', 'Estonia', 'Switzerland', 'Palestine', 'Venezuela',\n",
       "       'Czech Republic', 'Guatemala', 'Russia', 'Sweden', 'Netherlands',\n",
       "       'India', 'Philippines', 'South Africa', 'Singapore', 'Puerto Rico',\n",
       "       'Luxembourg', 'Hungary', 'Austria', 'Lithuania', 'Panama',\n",
       "       'Ukraine', 'Belarus', 'Greece', 'Korea, Republic of', 'Egypt',\n",
       "       'Slovenia', 'Kazakhstan', 'Malaysia', 'Slovakia', 'El Salvador',\n",
       "       'Guyana', 'Thailand', 'Cyprus', 'Nepal', 'Moldova', 'Macao',\n",
       "       'Bolivia', 'Bosnia and Herzegovina', 'Andorra', 'Uruguay',\n",
       "       'Romania', 'Georgia', 'Cuba', 'Sri Lanka', 'Indonesia', 'Algeria',\n",
       "       'Cambodia', 'Lebanon', 'Serbia and Montenegro', 'Afghanistan',\n",
       "       'Malta', 'Pakistan', 'Honduras', 'Kuwait', 'Antigua and Barbuda',\n",
       "       'Albania', 'Barbados', 'Uganda', 'Monaco', 'Croatia', 'Vietnam',\n",
       "       'Bhutan', 'Bermuda', 'Uzbekistan', 'Paraguay', 'Jamaica',\n",
       "       'Bulgaria', 'Nicaragua', 'Namibia', 'Cayman Islands',\n",
       "       'United Arab Emirates'], dtype=object)"
      ]
     },
     "execution_count": 39,
     "metadata": {},
     "output_type": "execute_result"
    }
   ],
   "source": [
    "df_mar19['Country'].unique()"
   ]
  },
  {
   "cell_type": "code",
   "execution_count": 40,
   "id": "3fb913b2",
   "metadata": {},
   "outputs": [
    {
     "data": {
      "text/plain": [
       "0         7677\n",
       "1         7679\n",
       "2         7687\n",
       "3         7734\n",
       "4         7735\n",
       "         ...  \n",
       "26646    22879\n",
       "26647    22947\n",
       "26648    23750\n",
       "26649    24818\n",
       "26650    25197\n",
       "Name: Result_sec, Length: 26651, dtype: int64"
      ]
     },
     "execution_count": 40,
     "metadata": {},
     "output_type": "execute_result"
    }
   ],
   "source": [
    "df_mar19['Result_sec']"
   ]
  },
  {
   "cell_type": "code",
   "execution_count": 41,
   "id": "7298756f",
   "metadata": {
    "scrolled": true
   },
   "outputs": [
    {
     "data": {
      "text/plain": [
       "0        127.950000\n",
       "1        127.983333\n",
       "2        128.116667\n",
       "3        128.900000\n",
       "4        128.916667\n",
       "            ...    \n",
       "26646    381.316667\n",
       "26647    382.450000\n",
       "26648    395.833333\n",
       "26649    413.633333\n",
       "26650    419.950000\n",
       "Name: Result_min, Length: 26651, dtype: float64"
      ]
     },
     "execution_count": 41,
     "metadata": {},
     "output_type": "execute_result"
    }
   ],
   "source": [
    "df_mar19['Result_min'] = df_mar19['Result_sec'] / 60\n",
    "df_mar19['Result_min']"
   ]
  },
  {
   "cell_type": "code",
   "execution_count": 55,
   "id": "42086007",
   "metadata": {},
   "outputs": [
    {
     "name": "stdout",
     "output_type": "stream",
     "text": [
      "The pace of all the participants in the 2019 marathon is 0         4.883588\n",
      "1         4.884860\n",
      "2         4.889949\n",
      "3         4.919847\n",
      "4         4.920483\n",
      "           ...    \n",
      "26646    14.554071\n",
      "26647    14.597328\n",
      "26648    15.108142\n",
      "26649    15.787532\n",
      "26650    16.028626\n",
      "Name: Pace, Length: 26651, dtype: float64\n"
     ]
    }
   ],
   "source": [
    "#Pace of all participants in the 2019 marathon\n",
    "\n",
    "df_mar19['Pace'] = df_mar19['Result_min'] / 26.2 \n",
    "print(\"The pace of all the participants in the 2019 marathon is\",df_mar19['Pace'])"
   ]
  },
  {
   "cell_type": "code",
   "execution_count": 88,
   "id": "7de6c604",
   "metadata": {},
   "outputs": [
    {
     "name": "stdout",
     "output_type": "stream",
     "text": [
      "The participant with the fastest pace is: Rank_Tot               1\n",
      "Age                   30\n",
      "Gender                 M\n",
      "Country            Kenya\n",
      "Result_hr        2:07:57\n",
      "Result_sec          7677\n",
      "Rank_Gender            1\n",
      "Country_code         KEN\n",
      "Result_min        127.95\n",
      "Pace            4.883588\n",
      "Name: 0, dtype: object\n"
     ]
    },
    {
     "data": {
      "text/plain": [
       "(None,)"
      ]
     },
     "execution_count": 88,
     "metadata": {},
     "output_type": "execute_result"
    }
   ],
   "source": [
    "#Participant with the fastest pace \n",
    "print(\"The participant with the fastest pace is:\", df_mar19.loc[0]),"
   ]
  },
  {
   "cell_type": "code",
   "execution_count": 140,
   "id": "0246f954",
   "metadata": {
    "scrolled": true
   },
   "outputs": [
    {
     "data": {
      "text/plain": [
       "<matplotlib.collections.PathCollection at 0x7fcb30babeb0>"
      ]
     },
     "execution_count": 140,
     "metadata": {},
     "output_type": "execute_result"
    },
    {
     "data": {
      "image/png": "[encoded data removed]",
      "text/plain": [
       "<Figure size 432x288 with 1 Axes>"
      ]
     },
     "metadata": {
      "needs_background": "light"
     },
     "output_type": "display_data"
    }
   ],
   "source": [
    "#How did the age influence the pace?\n",
    "\n",
    "age = df_mar19['Age']\n",
    "pace_15 = df_mar['Pace']\n",
    "pace_19 = df_mar19['Pace']\n",
    "mins = df_mar19['Result_min']\n",
    "\n",
    "plt.scatter(pace,age)"
   ]
  },
  {
   "cell_type": "code",
   "execution_count": 157,
   "id": "f70d794f",
   "metadata": {},
   "outputs": [
    {
     "data": {
      "image/png": "[encoded data removed]",
      "text/plain": [
       "<Figure size 504x360 with 1 Axes>"
      ]
     },
     "metadata": {
      "needs_background": "light"
     },
     "output_type": "display_data"
    },
    {
     "name": "stdout",
     "output_type": "stream",
     "text": [
      "The runners in 2015 were faster than the runners in 2019.\n"
     ]
    }
   ],
   "source": [
    "#Were runners faster in 2015 than in 2019?\n",
    "\n",
    "fig, ax = plt.subplots(figsize=(7,5))  \n",
    "ax.hist(pace_15,bins=30,alpha=0.5,density=True,label='Pace 2015')\n",
    "ax.hist(pace_19,bins=30,alpha=0.5,density=True,label='Pace 2019')\n",
    "plt.legend()\n",
    "plt.show()\n",
    "\n",
    "print(\"The runners in 2015 were faster than the runners in 2019.\")"
   ]
  },
  {
   "cell_type": "code",
   "execution_count": 193,
   "id": "9604e2c6",
   "metadata": {},
   "outputs": [
    {
     "data": {
      "image/png": "[encoded data removed]",
      "text/plain": [
       "<Figure size 504x360 with 1 Axes>"
      ]
     },
     "metadata": {
      "needs_background": "light"
     },
     "output_type": "display_data"
    }
   ],
   "source": [
    "#Did women improve more than men in 2019 compared to 2015?\n",
    "\n",
    "wom_15 = df_mar[df_mar['M/F'] == 'F'][['M/F','Pace']]\n",
    "wom_19 = df_mar19[df_mar19['Gender'] == 'F'][['Gender','Pace']]\n",
    "\n",
    "fig, ax = plt.subplots(figsize=(7,5))\n",
    "\n",
    "ax.hist(wom_15['Pace'], bins=25, alpha=0.5, density=True, label='Women in 2015',color='blue')\n",
    "ax.hist(wom_19['Pace'], bins=25, alpha=0.5, density=True, label='Women in 2019',color='red')\n",
    "\n",
    "plt.legend()\n",
    "\n",
    "plt.title(\"Comparison of Women's Marathon Pace: 2015 vs 2019\")\n",
    "plt.xlabel(\"Pace\")\n",
    "plt.ylabel(\"Density\")\n",
    "\n",
    "plt.show()\n"
   ]
  },
  {
   "cell_type": "markdown",
   "id": "a3c9c4ab",
   "metadata": {},
   "source": [
    "## Simple Linear Regression Model "
   ]
  },
  {
   "cell_type": "code",
   "execution_count": 159,
   "id": "9b7cf0dc",
   "metadata": {
    "scrolled": false
   },
   "outputs": [
    {
     "data": {
      "text/html": [
       "<table class=\"simpletable\">\n",
       "<caption>OLS Regression Results</caption>\n",
       "<tr>\n",
       "  <th>Dep. Variable:</th>          <td>Pace</td>       <th>  R-squared:         </th> <td>   0.051</td> \n",
       "</tr>\n",
       "<tr>\n",
       "  <th>Model:</th>                   <td>OLS</td>       <th>  Adj. R-squared:    </th> <td>   0.051</td> \n",
       "</tr>\n",
       "<tr>\n",
       "  <th>Method:</th>             <td>Least Squares</td>  <th>  F-statistic:       </th> <td>   1440.</td> \n",
       "</tr>\n",
       "<tr>\n",
       "  <th>Date:</th>             <td>Sat, 23 Dec 2023</td> <th>  Prob (F-statistic):</th> <td>6.18e-307</td>\n",
       "</tr>\n",
       "<tr>\n",
       "  <th>Time:</th>                 <td>21:27:13</td>     <th>  Log-Likelihood:    </th> <td> -48610.</td> \n",
       "</tr>\n",
       "<tr>\n",
       "  <th>No. Observations:</th>      <td> 26598</td>      <th>  AIC:               </th> <td>9.722e+04</td>\n",
       "</tr>\n",
       "<tr>\n",
       "  <th>Df Residuals:</th>          <td> 26596</td>      <th>  BIC:               </th> <td>9.724e+04</td>\n",
       "</tr>\n",
       "<tr>\n",
       "  <th>Df Model:</th>              <td>     1</td>      <th>                     </th>     <td> </td>    \n",
       "</tr>\n",
       "<tr>\n",
       "  <th>Covariance Type:</th>      <td>nonrobust</td>    <th>                     </th>     <td> </td>    \n",
       "</tr>\n",
       "</table>\n",
       "<table class=\"simpletable\">\n",
       "<tr>\n",
       "      <td></td>         <th>coef</th>     <th>std err</th>      <th>t</th>      <th>P>|t|</th>  <th>[0.025</th>    <th>0.975]</th>  \n",
       "</tr>\n",
       "<tr>\n",
       "  <th>Intercept</th> <td>    7.3189</td> <td>    0.036</td> <td>  205.324</td> <td> 0.000</td> <td>    7.249</td> <td>    7.389</td>\n",
       "</tr>\n",
       "<tr>\n",
       "  <th>Age</th>       <td>    0.0310</td> <td>    0.001</td> <td>   37.949</td> <td> 0.000</td> <td>    0.029</td> <td>    0.033</td>\n",
       "</tr>\n",
       "</table>\n",
       "<table class=\"simpletable\">\n",
       "<tr>\n",
       "  <th>Omnibus:</th>       <td>4623.888</td> <th>  Durbin-Watson:     </th> <td>   0.096</td>\n",
       "</tr>\n",
       "<tr>\n",
       "  <th>Prob(Omnibus):</th>  <td> 0.000</td>  <th>  Jarque-Bera (JB):  </th> <td>7999.389</td>\n",
       "</tr>\n",
       "<tr>\n",
       "  <th>Skew:</th>           <td> 1.135</td>  <th>  Prob(JB):          </th> <td>    0.00</td>\n",
       "</tr>\n",
       "<tr>\n",
       "  <th>Kurtosis:</th>       <td> 4.437</td>  <th>  Cond. No.          </th> <td>    169.</td>\n",
       "</tr>\n",
       "</table><br/><br/>Notes:<br/>[1] Standard Errors assume that the covariance matrix of the errors is correctly specified."
      ],
      "text/plain": [
       "<class 'statsmodels.iolib.summary.Summary'>\n",
       "\"\"\"\n",
       "                            OLS Regression Results                            \n",
       "==============================================================================\n",
       "Dep. Variable:                   Pace   R-squared:                       0.051\n",
       "Model:                            OLS   Adj. R-squared:                  0.051\n",
       "Method:                 Least Squares   F-statistic:                     1440.\n",
       "Date:                Sat, 23 Dec 2023   Prob (F-statistic):          6.18e-307\n",
       "Time:                        21:27:13   Log-Likelihood:                -48610.\n",
       "No. Observations:               26598   AIC:                         9.722e+04\n",
       "Df Residuals:                   26596   BIC:                         9.724e+04\n",
       "Df Model:                           1                                         \n",
       "Covariance Type:            nonrobust                                         \n",
       "==============================================================================\n",
       "                 coef    std err          t      P>|t|      [0.025      0.975]\n",
       "------------------------------------------------------------------------------\n",
       "Intercept      7.3189      0.036    205.324      0.000       7.249       7.389\n",
       "Age            0.0310      0.001     37.949      0.000       0.029       0.033\n",
       "==============================================================================\n",
       "Omnibus:                     4623.888   Durbin-Watson:                   0.096\n",
       "Prob(Omnibus):                  0.000   Jarque-Bera (JB):             7999.389\n",
       "Skew:                           1.135   Prob(JB):                         0.00\n",
       "Kurtosis:                       4.437   Cond. No.                         169.\n",
       "==============================================================================\n",
       "\n",
       "Notes:\n",
       "[1] Standard Errors assume that the covariance matrix of the errors is correctly specified.\n",
       "\"\"\""
      ]
     },
     "execution_count": 159,
     "metadata": {},
     "output_type": "execute_result"
    }
   ],
   "source": [
    "model = ols(formula = 'Pace ~ Age', data = df_mar).fit() \n",
    "model.summary()"
   ]
  },
  {
   "cell_type": "code",
   "execution_count": 158,
   "id": "7d414f08",
   "metadata": {},
   "outputs": [
    {
     "data": {
      "text/html": [
       "<table class=\"simpletable\">\n",
       "<caption>OLS Regression Results</caption>\n",
       "<tr>\n",
       "  <th>Dep. Variable:</th>          <td>Pace</td>       <th>  R-squared:         </th> <td>   0.068</td> \n",
       "</tr>\n",
       "<tr>\n",
       "  <th>Model:</th>                   <td>OLS</td>       <th>  Adj. R-squared:    </th> <td>   0.068</td> \n",
       "</tr>\n",
       "<tr>\n",
       "  <th>Method:</th>             <td>Least Squares</td>  <th>  F-statistic:       </th> <td>   1948.</td> \n",
       "</tr>\n",
       "<tr>\n",
       "  <th>Date:</th>             <td>Sat, 23 Dec 2023</td> <th>  Prob (F-statistic):</th>  <td>  0.00</td>  \n",
       "</tr>\n",
       "<tr>\n",
       "  <th>Time:</th>                 <td>21:26:32</td>     <th>  Log-Likelihood:    </th> <td> -51270.</td> \n",
       "</tr>\n",
       "<tr>\n",
       "  <th>No. Observations:</th>      <td> 26651</td>      <th>  AIC:               </th> <td>1.025e+05</td>\n",
       "</tr>\n",
       "<tr>\n",
       "  <th>Df Residuals:</th>          <td> 26649</td>      <th>  BIC:               </th> <td>1.026e+05</td>\n",
       "</tr>\n",
       "<tr>\n",
       "  <th>Df Model:</th>              <td>     1</td>      <th>                     </th>     <td> </td>    \n",
       "</tr>\n",
       "<tr>\n",
       "  <th>Covariance Type:</th>      <td>nonrobust</td>    <th>                     </th>     <td> </td>    \n",
       "</tr>\n",
       "</table>\n",
       "<table class=\"simpletable\">\n",
       "<tr>\n",
       "      <td></td>         <th>coef</th>     <th>std err</th>      <th>t</th>      <th>P>|t|</th>  <th>[0.025</th>    <th>0.975]</th>  \n",
       "</tr>\n",
       "<tr>\n",
       "  <th>Intercept</th> <td>    7.2314</td> <td>    0.039</td> <td>  185.463</td> <td> 0.000</td> <td>    7.155</td> <td>    7.308</td>\n",
       "</tr>\n",
       "<tr>\n",
       "  <th>Age</th>       <td>    0.0388</td> <td>    0.001</td> <td>   44.140</td> <td> 0.000</td> <td>    0.037</td> <td>    0.041</td>\n",
       "</tr>\n",
       "</table>\n",
       "<table class=\"simpletable\">\n",
       "<tr>\n",
       "  <th>Omnibus:</th>       <td>2998.050</td> <th>  Durbin-Watson:     </th> <td>   0.115</td>\n",
       "</tr>\n",
       "<tr>\n",
       "  <th>Prob(Omnibus):</th>  <td> 0.000</td>  <th>  Jarque-Bera (JB):  </th> <td>4115.719</td>\n",
       "</tr>\n",
       "<tr>\n",
       "  <th>Skew:</th>           <td> 0.918</td>  <th>  Prob(JB):          </th> <td>    0.00</td>\n",
       "</tr>\n",
       "<tr>\n",
       "  <th>Kurtosis:</th>       <td> 3.577</td>  <th>  Cond. No.          </th> <td>    170.</td>\n",
       "</tr>\n",
       "</table><br/><br/>Notes:<br/>[1] Standard Errors assume that the covariance matrix of the errors is correctly specified."
      ],
      "text/plain": [
       "<class 'statsmodels.iolib.summary.Summary'>\n",
       "\"\"\"\n",
       "                            OLS Regression Results                            \n",
       "==============================================================================\n",
       "Dep. Variable:                   Pace   R-squared:                       0.068\n",
       "Model:                            OLS   Adj. R-squared:                  0.068\n",
       "Method:                 Least Squares   F-statistic:                     1948.\n",
       "Date:                Sat, 23 Dec 2023   Prob (F-statistic):               0.00\n",
       "Time:                        21:26:32   Log-Likelihood:                -51270.\n",
       "No. Observations:               26651   AIC:                         1.025e+05\n",
       "Df Residuals:                   26649   BIC:                         1.026e+05\n",
       "Df Model:                           1                                         \n",
       "Covariance Type:            nonrobust                                         \n",
       "==============================================================================\n",
       "                 coef    std err          t      P>|t|      [0.025      0.975]\n",
       "------------------------------------------------------------------------------\n",
       "Intercept      7.2314      0.039    185.463      0.000       7.155       7.308\n",
       "Age            0.0388      0.001     44.140      0.000       0.037       0.041\n",
       "==============================================================================\n",
       "Omnibus:                     2998.050   Durbin-Watson:                   0.115\n",
       "Prob(Omnibus):                  0.000   Jarque-Bera (JB):             4115.719\n",
       "Skew:                           0.918   Prob(JB):                         0.00\n",
       "Kurtosis:                       3.577   Cond. No.                         170.\n",
       "==============================================================================\n",
       "\n",
       "Notes:\n",
       "[1] Standard Errors assume that the covariance matrix of the errors is correctly specified.\n",
       "\"\"\""
      ]
     },
     "execution_count": 158,
     "metadata": {},
     "output_type": "execute_result"
    }
   ],
   "source": [
    "model = ols(formula = 'Pace ~ Age', data = df_mar19).fit() \n",
    "model.summary()"
   ]
  },
  {
   "cell_type": "code",
   "execution_count": null,
   "id": "7c536adf",
   "metadata": {},
   "outputs": [],
   "source": []
  }
 ],
 "metadata": {
  "kernelspec": {
   "display_name": "Python 3 (ipykernel)",
   "language": "python",
   "name": "python3"
  },
  "language_info": {
   "codemirror_mode": {
    "name": "ipython",
    "version": 3
   },
   "file_extension": ".py",
   "mimetype": "text/x-python",
   "name": "python",
   "nbconvert_exporter": "python",
   "pygments_lexer": "ipython3",
   "version": "3.9.7"
  }
 },
 "nbformat": 4,
 "nbformat_minor": 5
}
